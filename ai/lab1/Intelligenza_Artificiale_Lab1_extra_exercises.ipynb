{
  "nbformat": 4,
  "nbformat_minor": 0,
  "metadata": {
    "colab": {
      "provenance": []
    },
    "kernelspec": {
      "name": "python3",
      "display_name": "Python 3"
    },
    "language_info": {
      "name": "python"
    }
  },
  "cells": [
    {
      "cell_type": "markdown",
      "source": [
        "Es 1\n",
        "\n",
        "Write a program that asks the user for the base and height of\n",
        "a rectangle. Then print the perimeter and area value\n",
        "of the rectangle."
      ],
      "metadata": {
        "id": "Otsx9TGsRkcw"
      }
    },
    {
      "cell_type": "code",
      "source": [
        "# compute_perimeter (b, h) function that receives two parameters (base, height) in input and compute the perimeter\n",
        "def compute_perimeter(b,h):\n",
        "  return 2*b+2*h\n",
        "\n",
        "# computer_area (b, h) function that receives two parameters (base, height) in input and computer the area\n",
        "def computer_area(b,h):\n",
        "  return b*h\n",
        "\n",
        "# write the instructions to receive in input base and height and call the functions\n",
        "base = int(input('Enter the base: '))\n",
        "height = int(input('Enter the height: '))\n",
        "print('The perimeter is: ', compute_perimeter(base, height))\n",
        "print('The area is: ', computer_area(base, height))"
      ],
      "metadata": {
        "id": "2KwWfbWCSxuJ",
        "colab": {
          "base_uri": "https://localhost:8080/"
        },
        "outputId": "5649e6ae-ae6e-4730-8ae5-8d8f9b929b74"
      },
      "execution_count": 3,
      "outputs": [
        {
          "output_type": "stream",
          "name": "stdout",
          "text": [
            "Enter the base: 10\n",
            "Enter the height: 10\n",
            "The perimeter is:  40\n",
            "The area is:  100\n"
          ]
        }
      ]
    },
    {
      "cell_type": "markdown",
      "source": [
        "Es 2\n",
        "\n",
        "s = input(\"What is your name? \")\n",
        "\n",
        "Print the type of the variable s, the length, the first and last character."
      ],
      "metadata": {
        "id": "iHvTLPCIVNgd"
      }
    },
    {
      "cell_type": "code",
      "source": [
        "s = input(\"What is your name? \")\n",
        "\n",
        "#Print the type of the variable s,\n",
        "print(type(s))\n",
        "\n",
        "#the length,\n",
        "print(len(s))\n",
        "\n",
        "#the first and last character.\n",
        "print(s[0])\n",
        "print(s[-1])"
      ],
      "metadata": {
        "id": "lHpfwZzrVjZu",
        "colab": {
          "base_uri": "https://localhost:8080/"
        },
        "outputId": "9864cb59-65c0-47c1-b71d-c967f7278d46"
      },
      "execution_count": 4,
      "outputs": [
        {
          "output_type": "stream",
          "name": "stdout",
          "text": [
            "What is your name? alessio\n",
            "<class 'str'>\n",
            "7\n",
            "a\n",
            "o\n"
          ]
        }
      ]
    },
    {
      "cell_type": "markdown",
      "source": [
        "Es 3\n",
        "\n",
        "Write a program that asks for two numbers. If the sum of the two\n",
        "number exceeds 100, print ``Number too large''"
      ],
      "metadata": {
        "id": "clpUPxe_YQIG"
      }
    },
    {
      "cell_type": "code",
      "source": [
        "# ask number x\n",
        "x = int(input('Enter the first number: '))\n",
        "# ask number y\n",
        "y = int(input('Enter the second number: '))\n",
        "# compute the sum\n",
        "sum = x + y\n",
        "# verify the condition and add print\n",
        "if sum > 100:\n",
        "  print('Number too large')"
      ],
      "metadata": {
        "id": "Ety16BRBYhc4",
        "colab": {
          "base_uri": "https://localhost:8080/"
        },
        "outputId": "0c12213d-ad64-4e22-9d85-dc683d9537bc"
      },
      "execution_count": 6,
      "outputs": [
        {
          "output_type": "stream",
          "name": "stdout",
          "text": [
            "Enter the first number: 100\n",
            "Enter the second number: 1\n",
            "Number too large\n"
          ]
        }
      ]
    },
    {
      "cell_type": "markdown",
      "source": [
        "Es 4\n",
        "*   Fill an initially empty list with 10 values ​​read from keyboard.\n",
        "*   Print the largest and smallest value contained in the list"
      ],
      "metadata": {
        "id": "0YUYlXyDZqNW"
      }
    },
    {
      "cell_type": "code",
      "source": [
        "# Empty list\n",
        "my_list = []\n",
        "\n",
        "# Iterate\n",
        "for i in range(10):\n",
        "    # Ask for value\n",
        "    value = int(input('Enter the ' + str(i+1) + ' value: '))\n",
        "    # Fill\n",
        "    my_list.append(value)\n",
        "\n",
        "# Initialize max and min with the first element\n",
        "max_value = my_list[0]\n",
        "min_value = my_list[0]\n",
        "\n",
        "# Iterate and check which is the max and the min\n",
        "for i in range(1, 10):\n",
        "    if my_list[i] > max_value:\n",
        "        max_value = my_list[i]\n",
        "    if my_list[i] < min_value:\n",
        "        min_value = my_list[i]\n",
        "\n",
        "# Print max and min\n",
        "print('The max value is:', max_value)\n",
        "print('The min value is:', min_value)"
      ],
      "metadata": {
        "id": "eVXNWg9EaPAj",
        "colab": {
          "base_uri": "https://localhost:8080/"
        },
        "outputId": "ddd7927b-19de-4206-8889-e1cb9884702a"
      },
      "execution_count": 12,
      "outputs": [
        {
          "output_type": "stream",
          "name": "stdout",
          "text": [
            "Enter the 1 value: 6\n",
            "Enter the 2 value: 7\n",
            "Enter the 3 value: 8\n",
            "Enter the 4 value: 5\n",
            "Enter the 5 value: 4\n",
            "Enter the 6 value: 3\n",
            "Enter the 7 value: 2\n",
            "Enter the 8 value: 1\n",
            "Enter the 9 value: 0\n",
            "Enter the 10 value: 7\n",
            "The max value is: 8\n",
            "The min value is: 0\n"
          ]
        }
      ]
    },
    {
      "cell_type": "markdown",
      "source": [
        "Es 5\n",
        "\n",
        "After importing the numpy module create an array\n",
        "of 100 random numbers with integer values ​​between 0 and\n",
        "50.\n",
        "\n",
        "Print all numbers greater than the mean and their location (i.e., index in the array)\n",
        "\n",
        "NB: You find hints in the documentation"
      ],
      "metadata": {
        "id": "8agdEE-Jdola"
      }
    },
    {
      "cell_type": "code",
      "source": [
        "# import the numpy\n",
        "import numpy as np\n",
        "\n",
        "# create an array of 100 random numbers between 0 and 50\n",
        "my_array = np.random.randint(0, 51, 100)\n",
        "\n",
        "# compute the mean\n",
        "mean = np.mean(my_array)\n",
        "\n",
        "print(f'Mean of the array: {mean:.2f}\\n')\n",
        "\n",
        "# Print the numbers greater than the mean and their locations\n",
        "print('Numbers greater than the mean:')\n",
        "for i in range(100):\n",
        "    if my_array[i] > mean:\n",
        "        print(f'The number is: {my_array[i]}, The location is: {i}')"
      ],
      "metadata": {
        "id": "e98eXdmzeMaa",
        "colab": {
          "base_uri": "https://localhost:8080/"
        },
        "outputId": "5e0af8a3-09c2-4e65-d3d3-13528417f874"
      },
      "execution_count": 20,
      "outputs": [
        {
          "output_type": "stream",
          "name": "stdout",
          "text": [
            "Mean of the array: 25.24\n",
            "\n",
            "Numbers greater than the mean:\n",
            "The number is: 48, The location is: 0\n",
            "The number is: 28, The location is: 1\n",
            "The number is: 26, The location is: 3\n",
            "The number is: 32, The location is: 9\n",
            "The number is: 43, The location is: 12\n",
            "The number is: 33, The location is: 13\n",
            "The number is: 42, The location is: 15\n",
            "The number is: 41, The location is: 17\n",
            "The number is: 26, The location is: 18\n",
            "The number is: 26, The location is: 19\n",
            "The number is: 30, The location is: 20\n",
            "The number is: 40, The location is: 22\n",
            "The number is: 28, The location is: 24\n",
            "The number is: 30, The location is: 25\n",
            "The number is: 44, The location is: 26\n",
            "The number is: 27, The location is: 27\n",
            "The number is: 49, The location is: 28\n",
            "The number is: 48, The location is: 29\n",
            "The number is: 50, The location is: 35\n",
            "The number is: 28, The location is: 37\n",
            "The number is: 32, The location is: 39\n",
            "The number is: 44, The location is: 43\n",
            "The number is: 26, The location is: 44\n",
            "The number is: 29, The location is: 45\n",
            "The number is: 49, The location is: 46\n",
            "The number is: 49, The location is: 48\n",
            "The number is: 45, The location is: 49\n",
            "The number is: 41, The location is: 50\n",
            "The number is: 37, The location is: 56\n",
            "The number is: 27, The location is: 57\n",
            "The number is: 26, The location is: 58\n",
            "The number is: 33, The location is: 59\n",
            "The number is: 38, The location is: 63\n",
            "The number is: 30, The location is: 64\n",
            "The number is: 41, The location is: 65\n",
            "The number is: 33, The location is: 66\n",
            "The number is: 33, The location is: 67\n",
            "The number is: 45, The location is: 68\n",
            "The number is: 37, The location is: 69\n",
            "The number is: 41, The location is: 72\n",
            "The number is: 47, The location is: 73\n",
            "The number is: 46, The location is: 74\n",
            "The number is: 31, The location is: 75\n",
            "The number is: 45, The location is: 81\n",
            "The number is: 38, The location is: 82\n",
            "The number is: 42, The location is: 83\n",
            "The number is: 29, The location is: 84\n",
            "The number is: 46, The location is: 85\n",
            "The number is: 30, The location is: 86\n",
            "The number is: 27, The location is: 89\n",
            "The number is: 33, The location is: 90\n",
            "The number is: 47, The location is: 91\n",
            "The number is: 33, The location is: 92\n",
            "The number is: 37, The location is: 95\n",
            "The number is: 28, The location is: 98\n"
          ]
        }
      ]
    },
    {
      "cell_type": "markdown",
      "source": [
        "Es 6\n",
        "\n",
        "Write a multiplier function(number_list) that\n",
        "given a list of numbers, multiply all of them together and returns the result. If the\n",
        "list is empty returns 0."
      ],
      "metadata": {
        "id": "F8WbV5-bgV6r"
      }
    },
    {
      "cell_type": "code",
      "source": [
        "# define the function\n",
        "def multiplier(number_list):\n",
        "  # check if it is empty\n",
        "  if len(number_list) == 0:\n",
        "    return 0\n",
        "  # multiple the values\n",
        "  for i in range(len(number_list)-1):\n",
        "    number_list[i+1] = number_list[i] * number_list[i+1]\n",
        "  return number_list[-1]\n",
        "\n",
        "# define the list\n",
        "my_list = [1, 2, 3, 4, 5]\n",
        "# call the function\n",
        "multiplier(my_list)"
      ],
      "metadata": {
        "id": "zrdWJ3zGgZO5",
        "colab": {
          "base_uri": "https://localhost:8080/"
        },
        "outputId": "8346ac65-1af4-47ea-b80f-67dd89eadded"
      },
      "execution_count": 21,
      "outputs": [
        {
          "output_type": "execute_result",
          "data": {
            "text/plain": [
              "120"
            ]
          },
          "metadata": {},
          "execution_count": 21
        }
      ]
    },
    {
      "cell_type": "markdown",
      "source": [
        "Es 7\n",
        "\n",
        "Write a countdown(string) function.\n",
        "The function takes a string as a parameter and returns the reversed\n",
        "string after making it lowercase all the\n",
        "characters and in uppercase only the last character (e.g\n",
        "example \"abcd\" becomes \"dcbA\"). Also manage the\n",
        "empty string case."
      ],
      "metadata": {
        "id": "_c_ZixcRhv7h"
      }
    },
    {
      "cell_type": "code",
      "source": [
        "def countdown(string):\n",
        "  if len(string) == 0:\n",
        "    return None\n",
        "  string = string.lower() # mette in lowercase tutti i char\n",
        "  string = string[::-1] # string[start:stop:step]\n",
        "  string = string[:-1] + string[-1].upper() # concatena con l'ultimo char in uppercase\n",
        "  return string\n",
        "\n",
        "my_string = str(input('Enter a string: '))\n",
        "print(countdown(my_string))"
      ],
      "metadata": {
        "id": "yQzTGnkwuSr4",
        "outputId": "044b379a-8ca8-4d0c-953e-e4bfbfb1fc96",
        "colab": {
          "base_uri": "https://localhost:8080/"
        }
      },
      "execution_count": 24,
      "outputs": [
        {
          "output_type": "stream",
          "name": "stdout",
          "text": [
            "Enter a string: ciao\n",
            "oaiC\n"
          ]
        }
      ]
    },
    {
      "cell_type": "markdown",
      "source": [
        "Es 8\n",
        "\n",
        "Write a function frequency(string). The function\n",
        "takes a string as a parameter and returns a\n",
        "dictionary representing the frequency of each\n",
        "character component of the string.\n",
        "For example, given a string \"ababcc\", the\n",
        "function returns result {\"a\": 2, \"b\": 2, \"c\":\n",
        "2}."
      ],
      "metadata": {
        "id": "wdm3E1Grjsoe"
      }
    },
    {
      "cell_type": "code",
      "source": [
        "def frequency(string):\n",
        "  if len(string) == 0:\n",
        "    return None\n",
        "  result = {}\n",
        "\n",
        "  for char in string:\n",
        "    # Controlla se il carattere è già presente nel dizionario\n",
        "    if char in result:\n",
        "      result[char] += 1\n",
        "    else:\n",
        "      result[char] = 1\n",
        "  return result\n",
        "\n",
        "my_string = str(input('Enter a string: '))\n",
        "print(frequency(my_string))"
      ],
      "metadata": {
        "id": "GfGq8dL2v26D",
        "outputId": "d049040c-1825-4a8a-8a23-ce9e88616ece",
        "colab": {
          "base_uri": "https://localhost:8080/"
        }
      },
      "execution_count": 25,
      "outputs": [
        {
          "output_type": "stream",
          "name": "stdout",
          "text": [
            "Enter a string: ababcc\n",
            "{'a': 2, 'b': 2, 'c': 2}\n"
          ]
        }
      ]
    }
  ]
}