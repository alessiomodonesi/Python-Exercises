{
  "nbformat": 4,
  "nbformat_minor": 0,
  "metadata": {
    "colab": {
      "provenance": [],
      "include_colab_link": true
    },
    "kernelspec": {
      "name": "python3",
      "display_name": "Python 3"
    },
    "language_info": {
      "name": "python"
    }
  },
  "cells": [
    {
      "cell_type": "markdown",
      "metadata": {
        "id": "view-in-github",
        "colab_type": "text"
      },
      "source": [
        "<a href=\"https://colab.research.google.com/github/alessiomodonesi/Python-Exercises/blob/main/ai/lab1/Solutions_Intelligenza_Artificiale_Lab1_extra_exercises.ipynb\" target=\"_parent\"><img src=\"https://colab.research.google.com/assets/colab-badge.svg\" alt=\"Open In Colab\"/></a>"
      ]
    },
    {
      "cell_type": "markdown",
      "source": [
        "Es 1\n",
        "\n",
        "Write a program that asks the user for the base and height of\n",
        "a rectangle. Then print the perimeter and area value\n",
        "of the rectangle."
      ],
      "metadata": {
        "id": "Otsx9TGsRkcw"
      }
    },
    {
      "cell_type": "code",
      "source": [
        "# compute_perimeter (b, h) function that receives two parameters (base, height) in input and compute the perimeter\n",
        "\n",
        "def compute_perimeter(b, h):\n",
        "  return 2*b + 2*h\n",
        "\n",
        "# computer_area (b, h) function that receives two parameters (base, height) in input and computer the area\n",
        "\n",
        "def compute_area(b,h):\n",
        "  return b*h\n",
        "\n",
        "\n",
        "# write the instructions to receive in input base and height and call the functions\n",
        "\n",
        "base = input('Type the base of the rectangle')\n",
        "height = input('Type the height of the rectange')\n",
        "\n",
        "base = eval(base)\n",
        "height = eval(height)\n",
        "\n",
        "p = compute_perimeter(base, height)\n",
        "area = compute_area (base, height)\n",
        "\n",
        "print('Perimeter' + str(p))\n",
        "print('Area' + str(area))\n"
      ],
      "metadata": {
        "id": "2KwWfbWCSxuJ",
        "colab": {
          "base_uri": "https://localhost:8080/"
        },
        "outputId": "a31a880a-e312-4922-9c28-fc17c7114faf"
      },
      "execution_count": null,
      "outputs": [
        {
          "output_type": "stream",
          "name": "stdout",
          "text": [
            "Type the base of the rectangle4\n",
            "Type the height of the rectange4\n",
            "Perimeter16\n",
            "Area16\n"
          ]
        }
      ]
    },
    {
      "cell_type": "code",
      "source": [
        "# compute_perimeter (b, h) function that receives two parameters (base, height) in input and compute the perimeter\n",
        "def compute_perimeter(b,h):\n",
        "  return (b+h)*2\n",
        "\n",
        "\n",
        "# computer_area (b, h) function that receives two parameters (base, height) in input and computer the area\n",
        "def compute_area(b,h):\n",
        "  return b*h\n",
        "\n",
        "# write the instructions to receive in input base and height and call the functions\n",
        "s= input(\"Specify rectangle base b: \\n\")\n",
        "b = float(s)\n",
        "s= input(\"Specify rectangle height h: \\n\")\n",
        "h= float(s)\n",
        "print(compute_perimeter(b,h))\n",
        "print(compute_area(b,h))"
      ],
      "metadata": {
        "colab": {
          "base_uri": "https://localhost:8080/"
        },
        "id": "aFSsytA6IRka",
        "outputId": "b01cd134-4c39-4cf8-a8aa-18294dc8261c"
      },
      "execution_count": null,
      "outputs": [
        {
          "output_type": "stream",
          "name": "stdout",
          "text": [
            "Specify rectangle base b: \n",
            "5\n",
            "Specify rectangle height h: \n",
            "4\n",
            "18.0\n",
            "20.0\n"
          ]
        }
      ]
    },
    {
      "cell_type": "markdown",
      "source": [
        "Es 2\n",
        "\n",
        "s = input(\"What is your name? \")\n",
        "\n",
        "Print the type of the variable s, the length, the first and last character."
      ],
      "metadata": {
        "id": "2aHIqQijVgqy"
      }
    },
    {
      "cell_type": "code",
      "source": [
        "s = input(\"What is your name? \")\n",
        "\n",
        "#Print the type of the variable s,\n",
        "\n",
        "print(type(s))\n",
        "\n",
        "#the length,\n",
        "print(len(s))\n",
        "\n",
        "#the first and last character.\n",
        "\n",
        "print(s[0])\n",
        "print(s[-1])\n",
        "print(s[len(s)-1])\n",
        "print(list(s)[0])\n",
        "print(list(s)[-1] )\n"
      ],
      "metadata": {
        "id": "y8oK3tdyVrk_"
      },
      "execution_count": null,
      "outputs": []
    },
    {
      "cell_type": "markdown",
      "source": [
        "Es 3\n",
        "\n",
        "Write a program that asks for two numbers. If the sum of the two\n",
        "number exceeds 100, print ``Number too large''"
      ],
      "metadata": {
        "id": "i_NaLW9YYzt9"
      }
    },
    {
      "cell_type": "code",
      "source": [
        "# ask number x\n",
        "\n",
        "x = input('Type x')\n",
        "\n",
        "# ask number y\n",
        "\n",
        "y = input('Type y')\n",
        "\n",
        "x = eval(x)\n",
        "y = eval(y)\n",
        "\n",
        "# compute the sum\n",
        "\n",
        "sum = x + y\n",
        "\n",
        "# verify the condition and add print\n",
        "\n",
        "if(sum>100):\n",
        "  print('Number too large')"
      ],
      "metadata": {
        "id": "tMyx2MK5Y4z_"
      },
      "execution_count": null,
      "outputs": []
    },
    {
      "cell_type": "code",
      "source": [
        "# ask number x\n",
        "s= input(\"Insert value x: \\n\")\n",
        "x = float(s)\n",
        "# ask number y\n",
        "s= input(\"Insert value y: \\n\")\n",
        "y = float(s)\n",
        "# compute the sum\n",
        "z= x+y\n",
        "# verify the condition and add print\n",
        "if(z > 100):\n",
        "  print(\"Number too large\")"
      ],
      "metadata": {
        "id": "0GLRd4noI5-f"
      },
      "execution_count": null,
      "outputs": []
    },
    {
      "cell_type": "markdown",
      "source": [
        "Es 4\n",
        "*   Fill an initially empty list with 10 values ​​read from keyboard.\n",
        "*   Print the largest and smallest value contained in the list"
      ],
      "metadata": {
        "id": "adySSD-WaKwR"
      }
    },
    {
      "cell_type": "code",
      "source": [
        "# Empty list\n",
        "L = []\n",
        "# Iterate\n",
        "for i in range(10):\n",
        "  # Ask for value\n",
        "  n = input('Type the number')\n",
        "  n = eval(n)\n",
        "  # Fill\n",
        "  L.append(n)\n",
        "\n",
        "# Temp max\n",
        "max = L[0]\n",
        "# Temp min\n",
        "min = L[0]\n",
        "# Iterate and check which is the max and the min\n",
        "\n",
        "for e in L:\n",
        "  if(e> max):\n",
        "    max = e\n",
        "  if(e<min):\n",
        "     min =e\n",
        "\n",
        "print(L)\n",
        "print(min)\n",
        "print(max)"
      ],
      "metadata": {
        "id": "hEQP1AxXaMsn"
      },
      "execution_count": null,
      "outputs": []
    },
    {
      "cell_type": "markdown",
      "source": [
        "Es 5\n",
        "\n",
        "After importing the numpy module create an array\n",
        "of 100 random numbers with integer values ​​between 0 and\n",
        "50.\n",
        "\n",
        "Print all numbers greater than the mean and the\n",
        "their location\n",
        "\n",
        "NB: You find hints in the documentation"
      ],
      "metadata": {
        "id": "UCKb0PWmd8uW"
      }
    },
    {
      "cell_type": "code",
      "source": [
        "# import the numpy\n",
        "import numpy as np\n",
        "\n",
        "# create an array of 100 random numbers between 0 and 50\n",
        "v=np.random.randint(0,50, size=100)\n",
        "print(v)\n",
        "\n",
        "# compute the mean\n",
        "m=np.mean(v)\n",
        "print(m)\n",
        "\n",
        "# other solution\n",
        "m1 = np.average(v)\n",
        "print(m1)\n",
        "\n",
        "# Print the expected number and the locations\n",
        "for i in range(100):\n",
        "\tif v[i]>m:\n",
        "\t\tprint(\"Item:\\t\" + str(v[i]) + \" in position:\\t\"+str(i))"
      ],
      "metadata": {
        "id": "hMNZrULxd9fy"
      },
      "execution_count": null,
      "outputs": []
    },
    {
      "cell_type": "markdown",
      "source": [
        "Es 6\n",
        "\n",
        "Write a multiplier function(number_list) that\n",
        "given a list of numbers, multiply all of them together\n",
        "elements of the list and returns the result. If the\n",
        "list is empty returns 0."
      ],
      "metadata": {
        "id": "Skceb6BKgrzw"
      }
    },
    {
      "cell_type": "code",
      "source": [
        "# define the function\n",
        "\n",
        "def multiplier_function(L):\n",
        "  # check if it is empty\n",
        "  if(len(L)==0):\n",
        "    return 0\n",
        "  product = 1\n",
        "   # multiple the values\n",
        "  for e in L:\n",
        "     product*=e\n",
        "  return product\n",
        "\n",
        "# define the list\n",
        "\n",
        "L = [1,2,3,4]\n",
        "#L = []\n",
        "\n",
        "# call the function\n",
        "print(multiplier_function(L))"
      ],
      "metadata": {
        "id": "HKA0ce6RgsqS"
      },
      "execution_count": null,
      "outputs": []
    },
    {
      "cell_type": "markdown",
      "source": [
        "Es 7\n",
        "\n",
        "Write a countdown(string) function.\n",
        "The function takes a string as a parameter and returns the reversed\n",
        "string after making it lowercase all the\n",
        "characters and in uppercase only the last character (e.g\n",
        "example \"abcd\" becomes \"dcbA\"). Also manage the\n",
        "empty string case."
      ],
      "metadata": {
        "id": "wD8oP9OBh-om"
      }
    },
    {
      "cell_type": "code",
      "source": [
        "# definition of the function\n",
        "\n",
        "def countdown(s):\n",
        "  # manage the empty string\n",
        "  if(len(s)==0):\n",
        "    return s\n",
        "  tmp = s[::-1]\n",
        "  last_character = tmp[-1];\n",
        "  return tmp[0:-1].lower() + last_character.upper()\n",
        "\n",
        "s = \"\"\n",
        "print(countdown(s))\n",
        "\n",
        "s = \"abcd\"\n",
        "print(countdown(s))"
      ],
      "metadata": {
        "id": "y90XxjKlh_gD"
      },
      "execution_count": null,
      "outputs": []
    },
    {
      "cell_type": "markdown",
      "source": [
        "Es 8\n",
        "\n",
        "Write a function frequency(string). The function\n",
        "takes a string as a parameter and returns a\n",
        "dictionary representing the frequency of each\n",
        "character component of the string.\n",
        "For example, given a string \"ababcc\", the\n",
        "function returns result {\"a\": 2, \"b\": 2, \"c\":\n",
        "2}."
      ],
      "metadata": {
        "id": "16y-UprPj4of"
      }
    },
    {
      "cell_type": "code",
      "source": [
        "def frequency(s):\n",
        "  # manage the empty string\n",
        "  D = {}\n",
        "  for c in s:\n",
        "    if c in D:\n",
        "            D[c] += 1\n",
        "    else:\n",
        "            D[c] = 1\n",
        "  return D\n",
        "\n",
        "s = \"ababcc\"\n",
        "print(frequency(s))"
      ],
      "metadata": {
        "id": "DMlcmS8Ij7gz"
      },
      "execution_count": null,
      "outputs": []
    },
    {
      "cell_type": "code",
      "source": [
        "#Other solution\n",
        "\n",
        "def frequency(s):\n",
        "  # manage the empty string\n",
        "  d= dict()\n",
        "  l = list(s)\n",
        "  for i in range(len(l)):\n",
        "    if l[i] in d:\n",
        "      d[l[i]]= d[l[i]]+1\n",
        "    else:\n",
        "      d[l[i]]= 1\n",
        "  return d\n",
        "\n",
        "s = \"ababcc\"\n",
        "print(frequency(s))"
      ],
      "metadata": {
        "id": "75zJPQFlLa0h"
      },
      "execution_count": null,
      "outputs": []
    }
  ]
}