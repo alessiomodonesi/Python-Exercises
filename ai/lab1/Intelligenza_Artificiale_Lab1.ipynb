{
 "cells": [
  {
   "cell_type": "markdown",
   "metadata": {
    "id": "8R1bA9uYMW8W"
   },
   "source": [
    "**Laboratory Lecture 1**"
   ]
  },
  {
   "cell_type": "markdown",
   "metadata": {
    "id": "IvkEJ5uc5VVb"
   },
   "source": [
    "**Python: Simple is better than complex**"
   ]
  },
  {
   "cell_type": "code",
   "execution_count": null,
   "metadata": {
    "colab": {
     "base_uri": "https://localhost:8080/"
    },
    "executionInfo": {
     "elapsed": 30,
     "status": "ok",
     "timestamp": 1759431296534,
     "user": {
      "displayName": "Gloria Beraldo",
      "userId": "00172148545632426203"
     },
     "user_tz": -120
    },
    "id": "3rei8gJ35kEA",
    "outputId": "7e02c2ce-fffd-4f09-8ec5-5b71bf605b9b"
   },
   "outputs": [
    {
     "name": "stdout",
     "output_type": "stream",
     "text": [
      "Hello, world!\n"
     ]
    }
   ],
   "source": [
    "print('Hello, world!')"
   ]
  },
  {
   "cell_type": "markdown",
   "metadata": {
    "id": "aJDowgeh5yKd"
   },
   "source": [
    "**Python: Identation**\n",
    "\n"
   ]
  },
  {
   "cell_type": "code",
   "execution_count": 2,
   "metadata": {
    "colab": {
     "base_uri": "https://localhost:8080/"
    },
    "executionInfo": {
     "elapsed": 35,
     "status": "ok",
     "timestamp": 1759570782209,
     "user": {
      "displayName": "Alessio Modonesi",
      "userId": "14576439706309158293"
     },
     "user_tz": -120
    },
    "id": "RF4Dc44654Kp",
    "outputId": "64c34993-944e-490d-aeb0-e88e45bea36a"
   },
   "outputs": [
    {
     "name": "stdout",
     "output_type": "stream",
     "text": [
      "Otherwise\n"
     ]
    }
   ],
   "source": [
    "x = 3\n",
    "if x > 10:\n",
    "  print('Greater than 10')\n",
    "else:\n",
    "  print('Otherwise')"
   ]
  },
  {
   "cell_type": "code",
   "execution_count": null,
   "metadata": {
    "colab": {
     "base_uri": "https://localhost:8080/",
     "height": 106
    },
    "executionInfo": {
     "elapsed": 11,
     "status": "error",
     "timestamp": 1759431296574,
     "user": {
      "displayName": "Gloria Beraldo",
      "userId": "00172148545632426203"
     },
     "user_tz": -120
    },
    "id": "YCtMkLCE6F07",
    "outputId": "74306407-d28f-4336-ae42-4e8b3dca6ea6"
   },
   "outputs": [
    {
     "ename": "IndentationError",
     "evalue": "expected an indented block after 'if' statement on line 2 (ipython-input-4140182168.py, line 3)",
     "output_type": "error",
     "traceback": [
      "\u001b[0;36m  File \u001b[0;32m\"/tmp/ipython-input-4140182168.py\"\u001b[0;36m, line \u001b[0;32m3\u001b[0m\n\u001b[0;31m    print('Greater than 10')\u001b[0m\n\u001b[0m    ^\u001b[0m\n\u001b[0;31mIndentationError\u001b[0m\u001b[0;31m:\u001b[0m expected an indented block after 'if' statement on line 2\n"
     ]
    }
   ],
   "source": [
    "x = 3\n",
    "if x > 10:\n",
    "print('Greater than 10')\n",
    "else:\n",
    "  print('Otherwise')"
   ]
  },
  {
   "cell_type": "markdown",
   "metadata": {
    "id": "vLfxBPjo6RQU"
   },
   "source": [
    "**Built-in types of data in Python**"
   ]
  },
  {
   "cell_type": "code",
   "execution_count": null,
   "metadata": {
    "id": "ATS-o1XF6aCM"
   },
   "outputs": [],
   "source": [
    "x = 5\n",
    "type(5)"
   ]
  },
  {
   "cell_type": "markdown",
   "metadata": {
    "id": "ndlv68Jk6yk9"
   },
   "source": [
    "**Variables in Python**"
   ]
  },
  {
   "cell_type": "code",
   "execution_count": 3,
   "metadata": {
    "executionInfo": {
     "elapsed": 13,
     "status": "ok",
     "timestamp": 1759570798440,
     "user": {
      "displayName": "Alessio Modonesi",
      "userId": "14576439706309158293"
     },
     "user_tz": -120
    },
    "id": "pauoRgVw61RY"
   },
   "outputs": [],
   "source": [
    "x = 5\n",
    "name = ' Marco'\n",
    "start, finish = 2, 100"
   ]
  },
  {
   "cell_type": "markdown",
   "metadata": {
    "id": "Qrcm_9LO9KVu"
   },
   "source": [
    "**Input function in Python**"
   ]
  },
  {
   "cell_type": "code",
   "execution_count": null,
   "metadata": {
    "colab": {
     "base_uri": "https://localhost:8080/"
    },
    "executionInfo": {
     "elapsed": 59004,
     "status": "ok",
     "timestamp": 1759431355667,
     "user": {
      "displayName": "Gloria Beraldo",
      "userId": "00172148545632426203"
     },
     "user_tz": -120
    },
    "id": "Rv5goSSq9QDW",
    "outputId": "da71337e-f2d7-4b14-98dc-9a7faff69f5c"
   },
   "outputs": [
    {
     "name": "stdout",
     "output_type": "stream",
     "text": [
      "Enter a value3\n",
      "3\n"
     ]
    }
   ],
   "source": [
    "n = input('Enter a value')\n",
    "print(n)"
   ]
  },
  {
   "cell_type": "markdown",
   "metadata": {
    "id": "gklB1aB370vL"
   },
   "source": [
    "**eval() function in Python**"
   ]
  },
  {
   "cell_type": "code",
   "execution_count": 4,
   "metadata": {
    "colab": {
     "base_uri": "https://localhost:8080/"
    },
    "executionInfo": {
     "elapsed": 2949,
     "status": "ok",
     "timestamp": 1759570821024,
     "user": {
      "displayName": "Alessio Modonesi",
      "userId": "14576439706309158293"
     },
     "user_tz": -120
    },
    "id": "cLW9LRIZ8BJ_",
    "outputId": "b660f154-a6be-4a1a-d892-3f92244e651e"
   },
   "outputs": [
    {
     "name": "stdout",
     "output_type": "stream",
     "text": [
      "Enter a value10\n",
      "<class 'int'>\n"
     ]
    }
   ],
   "source": [
    "n = input('Enter a value')\n",
    "n = eval(n)\n",
    "n-1\n",
    "print(type(n))"
   ]
  },
  {
   "cell_type": "markdown",
   "metadata": {
    "id": "FMn0AmLY9Z58"
   },
   "source": [
    "**Casting in Python**"
   ]
  },
  {
   "cell_type": "code",
   "execution_count": null,
   "metadata": {
    "colab": {
     "base_uri": "https://localhost:8080/"
    },
    "executionInfo": {
     "elapsed": 8,
     "status": "ok",
     "timestamp": 1759431362823,
     "user": {
      "displayName": "Gloria Beraldo",
      "userId": "00172148545632426203"
     },
     "user_tz": -120
    },
    "id": "7K9DqGXx9kJP",
    "outputId": "6d15e254-a32f-4a48-cd30-e58f0d72c6b7"
   },
   "outputs": [
    {
     "name": "stdout",
     "output_type": "stream",
     "text": [
      "6\n"
     ]
    }
   ],
   "source": [
    "y='6'\n",
    "x = int(y)\n",
    "print(x)"
   ]
  },
  {
   "cell_type": "code",
   "execution_count": null,
   "metadata": {
    "colab": {
     "base_uri": "https://localhost:8080/"
    },
    "executionInfo": {
     "elapsed": 8,
     "status": "ok",
     "timestamp": 1759431362832,
     "user": {
      "displayName": "Gloria Beraldo",
      "userId": "00172148545632426203"
     },
     "user_tz": -120
    },
    "id": "AKS2yurv9sj6",
    "outputId": "8a503460-7011-44f3-9fd8-a9121c480209"
   },
   "outputs": [
    {
     "name": "stdout",
     "output_type": "stream",
     "text": [
      "['6', '.', '3']\n"
     ]
    }
   ],
   "source": [
    "z = float('6.3')\n",
    "w = str(z)\n",
    "u = list(w)\n",
    "print(u)"
   ]
  },
  {
   "cell_type": "markdown",
   "metadata": {
    "id": "qzidneVk96ZL"
   },
   "source": [
    "**Variable environment in Python**"
   ]
  },
  {
   "cell_type": "code",
   "execution_count": null,
   "metadata": {
    "colab": {
     "base_uri": "https://localhost:8080/"
    },
    "executionInfo": {
     "elapsed": 5,
     "status": "ok",
     "timestamp": 1759431362839,
     "user": {
      "displayName": "Gloria Beraldo",
      "userId": "00172148545632426203"
     },
     "user_tz": -120
    },
    "id": "d9XmH2JG_S8Y",
    "outputId": "4ac9dfa2-574a-45d0-dc21-b0ca074cee91"
   },
   "outputs": [
    {
     "name": "stdout",
     "output_type": "stream",
     "text": [
      "5552368\n"
     ]
    }
   ],
   "source": [
    "v = True\n",
    "if v is True:\n",
    " phone = 5552368\n",
    "print(phone)"
   ]
  },
  {
   "cell_type": "code",
   "execution_count": null,
   "metadata": {
    "colab": {
     "base_uri": "https://localhost:8080/",
     "height": 176
    },
    "executionInfo": {
     "elapsed": 12,
     "status": "error",
     "timestamp": 1759431362852,
     "user": {
      "displayName": "Gloria Beraldo",
      "userId": "00172148545632426203"
     },
     "user_tz": -120
    },
    "id": "tzunk4Lx_Yw4",
    "outputId": "32ad4e4f-9840-4dcb-d703-aba7d4b23596"
   },
   "outputs": [
    {
     "ename": "NameError",
     "evalue": "name 'phone2' is not defined",
     "output_type": "error",
     "traceback": [
      "\u001b[0;31m---------------------------------------------------------------------------\u001b[0m",
      "\u001b[0;31mNameError\u001b[0m                                 Traceback (most recent call last)",
      "\u001b[0;32m/tmp/ipython-input-918928897.py\u001b[0m in \u001b[0;36m<cell line: 0>\u001b[0;34m()\u001b[0m\n\u001b[1;32m      2\u001b[0m \u001b[0;32mif\u001b[0m \u001b[0mv\u001b[0m \u001b[0;32mis\u001b[0m \u001b[0;32mTrue\u001b[0m\u001b[0;34m:\u001b[0m\u001b[0;34m\u001b[0m\u001b[0;34m\u001b[0m\u001b[0m\n\u001b[1;32m      3\u001b[0m  \u001b[0mphone2\u001b[0m \u001b[0;34m=\u001b[0m \u001b[0;36m5552368\u001b[0m\u001b[0;34m\u001b[0m\u001b[0;34m\u001b[0m\u001b[0m\n\u001b[0;32m----> 4\u001b[0;31m \u001b[0mprint\u001b[0m\u001b[0;34m(\u001b[0m\u001b[0mphone2\u001b[0m\u001b[0;34m)\u001b[0m\u001b[0;34m\u001b[0m\u001b[0;34m\u001b[0m\u001b[0m\n\u001b[0m",
      "\u001b[0;31mNameError\u001b[0m: name 'phone2' is not defined"
     ]
    }
   ],
   "source": [
    "v = False\n",
    "if v is True:\n",
    " phone2 = 5552368\n",
    "print(phone2)"
   ]
  },
  {
   "cell_type": "code",
   "execution_count": null,
   "metadata": {
    "id": "BKFTi3t-_t0y"
   },
   "outputs": [],
   "source": [
    "x = 0 # Global variable\n",
    "def my_function():\n",
    " x = 123 # Local variable inside my_function\n",
    "my_function()\n",
    "print(x)"
   ]
  },
  {
   "cell_type": "code",
   "execution_count": null,
   "metadata": {
    "id": "e9UMvzx7_v9q"
   },
   "outputs": [],
   "source": [
    "x = 0 # Global variable\n",
    "def my_function():\n",
    " global x # Declaration that x is a global variable\n",
    " x = 123 # Access to the global variable by assignment\n",
    "my_function()\n",
    "print(x)"
   ]
  },
  {
   "cell_type": "markdown",
   "metadata": {
    "id": "1xKiEc3oAs2Q"
   },
   "source": [
    "**Packing and Unpacking of Sequences in Python**"
   ]
  },
  {
   "cell_type": "code",
   "execution_count": null,
   "metadata": {
    "id": "koP19_JtA4dH"
   },
   "outputs": [],
   "source": [
    "data = 2, 4, 6, 8\n",
    "print(data)"
   ]
  },
  {
   "cell_type": "code",
   "execution_count": null,
   "metadata": {
    "id": "jv3ju77jA-5y"
   },
   "outputs": [],
   "source": [
    "a, b, c, d = range(7, 11)\n",
    "print(a)\n",
    "print(b)\n",
    "print(c)\n",
    "print(d)"
   ]
  },
  {
   "cell_type": "code",
   "execution_count": null,
   "metadata": {
    "id": "FnEn6WA1BMh6"
   },
   "outputs": [],
   "source": [
    "a, b, c = 6, 2, 5\n",
    "print(a)\n",
    "print(b)\n",
    "print(c)"
   ]
  },
  {
   "cell_type": "markdown",
   "metadata": {
    "id": "NxGV17eJBdv2"
   },
   "source": [
    "**Lists in Python**"
   ]
  },
  {
   "cell_type": "code",
   "execution_count": null,
   "metadata": {
    "id": "ZR6I2mc6BguM"
   },
   "outputs": [],
   "source": [
    "num_list = [1,2,3,4,5]\n",
    "alphabets_list = ['a','b','c','d','e']\n",
    "mixed_list = ['a', 1,'b',2,'c',3,'4']\n",
    "nested_list = [1,2,3,[4,5,6],7,8]\n",
    "print(len(nested_list))"
   ]
  },
  {
   "cell_type": "markdown",
   "metadata": {
    "id": "T598FY8ACKGr"
   },
   "source": [
    "**Tuples in Python**"
   ]
  },
  {
   "cell_type": "code",
   "execution_count": null,
   "metadata": {
    "id": "VIIV85vaCNty"
   },
   "outputs": [],
   "source": [
    "num_tuple = (1,2,3,4,5)\n",
    "alphabets_tuple = ('a','b','c','d','e')\n",
    "mixed_tuple = ('a', 1,'b',2,'c',3,'4')\n",
    "nested_tuple = (1,2,3,(4,5,6),7,8)\n",
    "print(len(nested_tuple))"
   ]
  },
  {
   "cell_type": "markdown",
   "metadata": {
    "id": "U91nejxOCuSd"
   },
   "source": [
    "**Lists in Python**"
   ]
  },
  {
   "cell_type": "code",
   "execution_count": null,
   "metadata": {
    "id": "RsQz229hCyWv"
   },
   "outputs": [],
   "source": [
    "names = [\"Raj\",\"John\",\"Jabby\",\"Raja\"]\n",
    "print(names[2])\n",
    "names[2] = \"Kelly\"\n",
    "print(names[2])"
   ]
  },
  {
   "cell_type": "markdown",
   "metadata": {
    "id": "OTOEpDwLDHUq"
   },
   "source": [
    "**Tuples in Python**"
   ]
  },
  {
   "cell_type": "code",
   "execution_count": null,
   "metadata": {
    "id": "-0TaUaZNDOO_"
   },
   "outputs": [],
   "source": [
    "names = (\"Raj\",\"John\",\"Jabby\",\"Raja\")\n",
    "print(names[2])\n",
    "names[2] = \"Kelly\""
   ]
  },
  {
   "cell_type": "markdown",
   "metadata": {
    "id": "gTjy_fFuDi-i"
   },
   "source": [
    "**Operations with Lists in Python**"
   ]
  },
  {
   "cell_type": "code",
   "execution_count": null,
   "metadata": {
    "colab": {
     "base_uri": "https://localhost:8080/"
    },
    "executionInfo": {
     "elapsed": 12,
     "status": "ok",
     "timestamp": 1759431463181,
     "user": {
      "displayName": "Gloria Beraldo",
      "userId": "00172148545632426203"
     },
     "user_tz": -120
    },
    "id": "44sK-9UcDoZk",
    "outputId": "6d3bbade-f946-44c3-b6ab-3b6496e072bc"
   },
   "outputs": [
    {
     "name": "stdout",
     "output_type": "stream",
     "text": [
      "3\n",
      "4\n",
      "[2, 3]\n"
     ]
    }
   ],
   "source": [
    "L = [1, 2, 3, 4]\n",
    "print(L[2])\n",
    "\n",
    "print(L[-1])\n",
    "\n",
    "print(L[1:3])"
   ]
  },
  {
   "cell_type": "code",
   "execution_count": null,
   "metadata": {
    "colab": {
     "base_uri": "https://localhost:8080/"
    },
    "executionInfo": {
     "elapsed": 40,
     "status": "ok",
     "timestamp": 1759431459621,
     "user": {
      "displayName": "Gloria Beraldo",
      "userId": "00172148545632426203"
     },
     "user_tz": -120
    },
    "id": "plg67uuhD5rH",
    "outputId": "31022789-418f-49ac-ea1b-37ef961b5cb2"
   },
   "outputs": [
    {
     "name": "stdout",
     "output_type": "stream",
     "text": [
      "[2, 3]\n"
     ]
    }
   ],
   "source": [
    "L = []\n",
    "L.append(2)\n",
    "L.append(3)\n",
    "print(L)"
   ]
  },
  {
   "cell_type": "code",
   "execution_count": null,
   "metadata": {
    "colab": {
     "base_uri": "https://localhost:8080/"
    },
    "executionInfo": {
     "elapsed": 13,
     "status": "ok",
     "timestamp": 1759431465550,
     "user": {
      "displayName": "Gloria Beraldo",
      "userId": "00172148545632426203"
     },
     "user_tz": -120
    },
    "id": "VjqumooFD_k0",
    "outputId": "35877145-c61b-4c37-b46d-ac44d6954269"
   },
   "outputs": [
    {
     "name": "stdout",
     "output_type": "stream",
     "text": [
      "[1, 2, 3]\n"
     ]
    }
   ],
   "source": [
    "L = []\n",
    "L.extend([1,2,3])\n",
    "print(L)"
   ]
  },
  {
   "cell_type": "code",
   "execution_count": null,
   "metadata": {
    "colab": {
     "base_uri": "https://localhost:8080/"
    },
    "executionInfo": {
     "elapsed": 48,
     "status": "ok",
     "timestamp": 1759431466651,
     "user": {
      "displayName": "Gloria Beraldo",
      "userId": "00172148545632426203"
     },
     "user_tz": -120
    },
    "id": "IeNm3LHBEPFc",
    "outputId": "50677738-f6b0-4614-b105-ba0e4fe9829e"
   },
   "outputs": [
    {
     "name": "stdout",
     "output_type": "stream",
     "text": [
      "[1, 5, 2, 3, 4]\n"
     ]
    }
   ],
   "source": [
    "L = [1, 2, 3, 4]\n",
    "L.insert(1, 5)\n",
    "print(L)"
   ]
  },
  {
   "cell_type": "code",
   "execution_count": null,
   "metadata": {
    "colab": {
     "base_uri": "https://localhost:8080/"
    },
    "executionInfo": {
     "elapsed": 40,
     "status": "ok",
     "timestamp": 1759431468024,
     "user": {
      "displayName": "Gloria Beraldo",
      "userId": "00172148545632426203"
     },
     "user_tz": -120
    },
    "id": "QvqDvf4hEdTx",
    "outputId": "1b3bdfcd-9771-415e-ee60-708a20e2a7b0"
   },
   "outputs": [
    {
     "name": "stdout",
     "output_type": "stream",
     "text": [
      "[4, 3, 2, 5]\n"
     ]
    }
   ],
   "source": [
    "L = [5,2,3,4]\n",
    "L.reverse()\n",
    "print(L)"
   ]
  },
  {
   "cell_type": "code",
   "execution_count": null,
   "metadata": {
    "colab": {
     "base_uri": "https://localhost:8080/"
    },
    "executionInfo": {
     "elapsed": 57,
     "status": "ok",
     "timestamp": 1759431469314,
     "user": {
      "displayName": "Gloria Beraldo",
      "userId": "00172148545632426203"
     },
     "user_tz": -120
    },
    "id": "BOySykJPElFO",
    "outputId": "cd5cf628-45d9-4881-8e09-5edf25c98388"
   },
   "outputs": [
    {
     "name": "stdout",
     "output_type": "stream",
     "text": [
      "[2, 3, 4, 5]\n"
     ]
    }
   ],
   "source": [
    "L = [5,2,3,4]\n",
    "L.sort()\n",
    "print(L)"
   ]
  },
  {
   "cell_type": "code",
   "execution_count": null,
   "metadata": {
    "colab": {
     "base_uri": "https://localhost:8080/"
    },
    "executionInfo": {
     "elapsed": 11,
     "status": "ok",
     "timestamp": 1759431470331,
     "user": {
      "displayName": "Gloria Beraldo",
      "userId": "00172148545632426203"
     },
     "user_tz": -120
    },
    "id": "L1Y7Uzl8EpXv",
    "outputId": "a82d5c58-b3ca-44a2-af2f-2b56dc610d51"
   },
   "outputs": [
    {
     "name": "stdout",
     "output_type": "stream",
     "text": [
      "True\n",
      "False\n"
     ]
    }
   ],
   "source": [
    "L = [5,2,3,4]\n",
    "print(2 in L)\n",
    "print(4 not in L)"
   ]
  },
  {
   "cell_type": "code",
   "execution_count": null,
   "metadata": {
    "colab": {
     "base_uri": "https://localhost:8080/"
    },
    "executionInfo": {
     "elapsed": 16,
     "status": "ok",
     "timestamp": 1759431471783,
     "user": {
      "displayName": "Gloria Beraldo",
      "userId": "00172148545632426203"
     },
     "user_tz": -120
    },
    "id": "9wDtYpKrE5C9",
    "outputId": "578490c4-7b0f-4edd-fa53-e2d48f6dd355"
   },
   "outputs": [
    {
     "name": "stdout",
     "output_type": "stream",
     "text": [
      "[5, 3, 4]\n"
     ]
    }
   ],
   "source": [
    "L = [5,2,3,4]\n",
    "L.remove(2)\n",
    "print(L)"
   ]
  },
  {
   "cell_type": "code",
   "execution_count": null,
   "metadata": {
    "colab": {
     "base_uri": "https://localhost:8080/"
    },
    "executionInfo": {
     "elapsed": 9,
     "status": "ok",
     "timestamp": 1759431472808,
     "user": {
      "displayName": "Gloria Beraldo",
      "userId": "00172148545632426203"
     },
     "user_tz": -120
    },
    "id": "_uJ2QBBUFA-J",
    "outputId": "3dd6d521-c5c9-4d5d-c72e-ae4bbcaae915"
   },
   "outputs": [
    {
     "name": "stdout",
     "output_type": "stream",
     "text": [
      "[5, 2, 3]\n"
     ]
    }
   ],
   "source": [
    "L = [5,2,3,4]\n",
    "L.pop()\n",
    "print(L)"
   ]
  },
  {
   "cell_type": "code",
   "execution_count": null,
   "metadata": {
    "colab": {
     "base_uri": "https://localhost:8080/"
    },
    "executionInfo": {
     "elapsed": 12,
     "status": "ok",
     "timestamp": 1759431474009,
     "user": {
      "displayName": "Gloria Beraldo",
      "userId": "00172148545632426203"
     },
     "user_tz": -120
    },
    "id": "B6ktnwMWFFuh",
    "outputId": "b17fb840-69ad-43cb-ada1-a982985b9cd8"
   },
   "outputs": [
    {
     "name": "stdout",
     "output_type": "stream",
     "text": [
      "2\n"
     ]
    }
   ],
   "source": [
    "L = [5,2,3,4]\n",
    "print(L.index(3))"
   ]
  },
  {
   "cell_type": "markdown",
   "metadata": {
    "id": "aZtCdvG6FiWm"
   },
   "source": [
    "**Dictionaries in Python**"
   ]
  },
  {
   "cell_type": "code",
   "execution_count": null,
   "metadata": {
    "id": "1vMW-HmxFl-a"
   },
   "outputs": [],
   "source": [
    "D = {10000: \"Mario Rossi\", 10001: \"Maria Bianchi\", 10002: \"Pinco Pallino\"}\n",
    "empty_dict = {}\n"
   ]
  },
  {
   "cell_type": "code",
   "execution_count": null,
   "metadata": {
    "colab": {
     "base_uri": "https://localhost:8080/"
    },
    "executionInfo": {
     "elapsed": 42,
     "status": "ok",
     "timestamp": 1759431476974,
     "user": {
      "displayName": "Gloria Beraldo",
      "userId": "00172148545632426203"
     },
     "user_tz": -120
    },
    "id": "yRFsCP4OFt0Y",
    "outputId": "ca4218d8-bf7f-4b3c-e0eb-843a33c7c739"
   },
   "outputs": [
    {
     "name": "stdout",
     "output_type": "stream",
     "text": [
      "Mario Rossi\n"
     ]
    }
   ],
   "source": [
    "D = {10000: \"Mario Rossi\", 10001: \"Maria Bianchi\", 10002: \"Pinco Pallino\"}\n",
    "print(D[10000])"
   ]
  },
  {
   "cell_type": "code",
   "execution_count": null,
   "metadata": {
    "colab": {
     "base_uri": "https://localhost:8080/"
    },
    "executionInfo": {
     "elapsed": 16,
     "status": "ok",
     "timestamp": 1759431478031,
     "user": {
      "displayName": "Gloria Beraldo",
      "userId": "00172148545632426203"
     },
     "user_tz": -120
    },
    "id": "7ruhHeO7F00Y",
    "outputId": "a980e4a7-a763-4304-9d65-778bdaf6a063"
   },
   "outputs": [
    {
     "name": "stdout",
     "output_type": "stream",
     "text": [
      "{10001: 'Maria Bianchi', 10002: 'Pinco Pallino'}\n"
     ]
    }
   ],
   "source": [
    "D = {10000: \"Mario Rossi\", 10001: \"Maria Bianchi\", 10002: \"Pinco Pallino\"}\n",
    "del D[10000]\n",
    "print(D)"
   ]
  },
  {
   "cell_type": "markdown",
   "metadata": {
    "id": "0bqnjgfCGY0v"
   },
   "source": [
    "**Logic Operations in Python**"
   ]
  },
  {
   "cell_type": "code",
   "execution_count": null,
   "metadata": {
    "colab": {
     "base_uri": "https://localhost:8080/"
    },
    "executionInfo": {
     "elapsed": 12,
     "status": "ok",
     "timestamp": 1759431479356,
     "user": {
      "displayName": "Gloria Beraldo",
      "userId": "00172148545632426203"
     },
     "user_tz": -120
    },
    "id": "kymTSdkxGedY",
    "outputId": "23790df3-91a1-4a6d-f830-c0538a913824"
   },
   "outputs": [
    {
     "name": "stdout",
     "output_type": "stream",
     "text": [
      "False\n",
      "True\n",
      "False\n",
      "True\n",
      "True\n"
     ]
    }
   ],
   "source": [
    "a = True\n",
    "b = False\n",
    "\n",
    "print(a and b)\n",
    "print(a or b)\n",
    "print(not a)\n",
    "print(not b)\n",
    "print(not a and b or a)"
   ]
  },
  {
   "cell_type": "markdown",
   "metadata": {
    "id": "GHvRqlmQG_H-"
   },
   "source": [
    "**Operations with String in Python**"
   ]
  },
  {
   "cell_type": "code",
   "execution_count": null,
   "metadata": {
    "colab": {
     "base_uri": "https://localhost:8080/"
    },
    "executionInfo": {
     "elapsed": 31,
     "status": "ok",
     "timestamp": 1759431481365,
     "user": {
      "displayName": "Gloria Beraldo",
      "userId": "00172148545632426203"
     },
     "user_tz": -120
    },
    "id": "_pZ1tolfHDJ6",
    "outputId": "20998ffb-7a65-4e80-aab8-16a4b6a1d172"
   },
   "outputs": [
    {
     "name": "stdout",
     "output_type": "stream",
     "text": [
      "HelloWorld\n",
      "HELLO\n",
      "world\n"
     ]
    }
   ],
   "source": [
    "a=\"Hello\"\n",
    "b = \"World\"\n",
    "\n",
    "print(a+b)\n",
    "print(a.upper())\n",
    "print(b.lower())"
   ]
  },
  {
   "cell_type": "markdown",
   "metadata": {
    "id": "THxb_2TsHTi9"
   },
   "source": [
    "**Loops in Python**"
   ]
  },
  {
   "cell_type": "code",
   "execution_count": null,
   "metadata": {
    "colab": {
     "base_uri": "https://localhost:8080/"
    },
    "executionInfo": {
     "elapsed": 22,
     "status": "ok",
     "timestamp": 1759431482969,
     "user": {
      "displayName": "Gloria Beraldo",
      "userId": "00172148545632426203"
     },
     "user_tz": -120
    },
    "id": "BcTID4gJHWhE",
    "outputId": "6b0a38cb-7412-4e1a-fc12-aff4274b2f97"
   },
   "outputs": [
    {
     "name": "stdout",
     "output_type": "stream",
     "text": [
      "10\n"
     ]
    }
   ],
   "source": [
    "a = 0\n",
    "while a < 10:\n",
    "  a = a + 1\n",
    "print(a)"
   ]
  },
  {
   "cell_type": "code",
   "execution_count": null,
   "metadata": {
    "colab": {
     "base_uri": "https://localhost:8080/"
    },
    "executionInfo": {
     "elapsed": 9,
     "status": "ok",
     "timestamp": 1759431484136,
     "user": {
      "displayName": "Gloria Beraldo",
      "userId": "00172148545632426203"
     },
     "user_tz": -120
    },
    "id": "jF-etai_HwIc",
    "outputId": "4e3de674-2a76-483c-a0e8-4abc06652538"
   },
   "outputs": [
    {
     "name": "stdout",
     "output_type": "stream",
     "text": [
      "0\n",
      "1\n",
      "2\n",
      "3\n",
      "4\n",
      "5\n",
      "6\n",
      "7\n",
      "8\n",
      "9\n"
     ]
    }
   ],
   "source": [
    "for a in range(0,10):\n",
    "  print(a)"
   ]
  },
  {
   "cell_type": "markdown",
   "metadata": {
    "id": "Iwjo7cqeH54v"
   },
   "source": [
    "**Functions in Python**"
   ]
  },
  {
   "cell_type": "code",
   "execution_count": null,
   "metadata": {
    "colab": {
     "base_uri": "https://localhost:8080/"
    },
    "executionInfo": {
     "elapsed": 55,
     "status": "ok",
     "timestamp": 1759431487041,
     "user": {
      "displayName": "Gloria Beraldo",
      "userId": "00172148545632426203"
     },
     "user_tz": -120
    },
    "id": "GWjioBZAH80G",
    "outputId": "93256adf-6899-4647-8278-d85def048035"
   },
   "outputs": [
    {
     "name": "stdout",
     "output_type": "stream",
     "text": [
      "apple\n",
      "banana\n",
      "cherry\n",
      "['apple', 'banana']\n"
     ]
    }
   ],
   "source": [
    "def my_function(food):\n",
    "  for x in food:\n",
    "    print(x)\n",
    "  food.pop()\n",
    "\n",
    "fruits = [\"apple\", \"banana\", \"cherry\"]\n",
    "my_function(fruits)\n",
    "print(fruits)"
   ]
  },
  {
   "cell_type": "code",
   "execution_count": null,
   "metadata": {
    "colab": {
     "base_uri": "https://localhost:8080/"
    },
    "executionInfo": {
     "elapsed": 39,
     "status": "ok",
     "timestamp": 1759431488514,
     "user": {
      "displayName": "Gloria Beraldo",
      "userId": "00172148545632426203"
     },
     "user_tz": -120
    },
    "id": "YSfsX9EdIWGH",
    "outputId": "9629b3a0-762b-4c7e-8816-7bd1afebcb1f"
   },
   "outputs": [
    {
     "name": "stdout",
     "output_type": "stream",
     "text": [
      "7\n"
     ]
    }
   ],
   "source": [
    "def sum(a,b):\n",
    "  return a+b\n",
    "\n",
    "c = sum(3,4)\n",
    "print(c)"
   ]
  },
  {
   "cell_type": "markdown",
   "metadata": {
    "id": "0ktw2m-2IlOI"
   },
   "source": [
    "**Importing modules in Python**"
   ]
  },
  {
   "cell_type": "code",
   "execution_count": null,
   "metadata": {
    "id": "VAAF441gIp0Z"
   },
   "outputs": [],
   "source": [
    "import math, random, csv\n",
    "import itertools, functools\n",
    "import numpy"
   ]
  },
  {
   "cell_type": "code",
   "execution_count": null,
   "metadata": {
    "colab": {
     "base_uri": "https://localhost:8080/"
    },
    "executionInfo": {
     "elapsed": 10569,
     "status": "ok",
     "timestamp": 1759431501864,
     "user": {
      "displayName": "Gloria Beraldo",
      "userId": "00172148545632426203"
     },
     "user_tz": -120
    },
    "id": "OtoX5GifI5pB",
    "outputId": "5a0deeeb-fec6-41d5-c709-6832fb8a0669"
   },
   "outputs": [
    {
     "name": "stdout",
     "output_type": "stream",
     "text": [
      "Collecting nxviz\n",
      "  Downloading nxviz-0.7.6-py2.py3-none-any.whl.metadata (2.9 kB)\n",
      "Requirement already satisfied: matplotlib>=3.3.3 in /usr/local/lib/python3.12/dist-packages (from nxviz) (3.10.0)\n",
      "Requirement already satisfied: more-itertools>=8.6.0 in /usr/local/lib/python3.12/dist-packages (from nxviz) (10.8.0)\n",
      "Requirement already satisfied: networkx>=2.5 in /usr/local/lib/python3.12/dist-packages (from nxviz) (3.5)\n",
      "Requirement already satisfied: numpy>=1.19.4 in /usr/local/lib/python3.12/dist-packages (from nxviz) (2.0.2)\n",
      "Collecting palettable>=3.3.0 (from nxviz)\n",
      "  Downloading palettable-3.3.3-py2.py3-none-any.whl.metadata (3.3 kB)\n",
      "Requirement already satisfied: pandas>=1.2.0 in /usr/local/lib/python3.12/dist-packages (from nxviz) (2.2.2)\n",
      "Requirement already satisfied: seaborn>=0.11.1 in /usr/local/lib/python3.12/dist-packages (from nxviz) (0.13.2)\n",
      "Requirement already satisfied: setuptools in /usr/local/lib/python3.12/dist-packages (from nxviz) (75.2.0)\n",
      "Requirement already satisfied: contourpy>=1.0.1 in /usr/local/lib/python3.12/dist-packages (from matplotlib>=3.3.3->nxviz) (1.3.3)\n",
      "Requirement already satisfied: cycler>=0.10 in /usr/local/lib/python3.12/dist-packages (from matplotlib>=3.3.3->nxviz) (0.12.1)\n",
      "Requirement already satisfied: fonttools>=4.22.0 in /usr/local/lib/python3.12/dist-packages (from matplotlib>=3.3.3->nxviz) (4.60.0)\n",
      "Requirement already satisfied: kiwisolver>=1.3.1 in /usr/local/lib/python3.12/dist-packages (from matplotlib>=3.3.3->nxviz) (1.4.9)\n",
      "Requirement already satisfied: packaging>=20.0 in /usr/local/lib/python3.12/dist-packages (from matplotlib>=3.3.3->nxviz) (25.0)\n",
      "Requirement already satisfied: pillow>=8 in /usr/local/lib/python3.12/dist-packages (from matplotlib>=3.3.3->nxviz) (11.3.0)\n",
      "Requirement already satisfied: pyparsing>=2.3.1 in /usr/local/lib/python3.12/dist-packages (from matplotlib>=3.3.3->nxviz) (3.2.4)\n",
      "Requirement already satisfied: python-dateutil>=2.7 in /usr/local/lib/python3.12/dist-packages (from matplotlib>=3.3.3->nxviz) (2.9.0.post0)\n",
      "Requirement already satisfied: pytz>=2020.1 in /usr/local/lib/python3.12/dist-packages (from pandas>=1.2.0->nxviz) (2025.2)\n",
      "Requirement already satisfied: tzdata>=2022.7 in /usr/local/lib/python3.12/dist-packages (from pandas>=1.2.0->nxviz) (2025.2)\n",
      "Requirement already satisfied: six>=1.5 in /usr/local/lib/python3.12/dist-packages (from python-dateutil>=2.7->matplotlib>=3.3.3->nxviz) (1.17.0)\n",
      "Downloading nxviz-0.7.6-py2.py3-none-any.whl (29 kB)\n",
      "Downloading palettable-3.3.3-py2.py3-none-any.whl (332 kB)\n",
      "\u001b[2K   \u001b[90m━━━━━━━━━━━━━━━━━━━━━━━━━━━━━━━━━━━━━━━━\u001b[0m \u001b[32m332.3/332.3 kB\u001b[0m \u001b[31m8.5 MB/s\u001b[0m eta \u001b[36m0:00:00\u001b[0m\n",
      "\u001b[?25hInstalling collected packages: palettable, nxviz\n",
      "Successfully installed nxviz-0.7.6 palettable-3.3.3\n"
     ]
    },
    {
     "name": "stderr",
     "output_type": "stream",
     "text": [
      "/usr/local/lib/python3.12/dist-packages/nxviz/__init__.py:33: UserWarning: \n",
      "nxviz has a new API! Version 0.7.4 onwards, the old class-based API is being\n",
      "deprecated in favour of a new API focused on advancing a grammar of network\n",
      "graphics. If your plotting code depends on the old API, please consider\n",
      "pinning nxviz at version 0.7.4, as the new API will break your old code.\n",
      "\n",
      "To check out the new API, please head over to the docs at\n",
      "https://ericmjl.github.io/nxviz/ to learn more. We hope you enjoy using it!\n",
      "\n",
      "(This deprecation message will go away in version 1.0.)\n",
      "\n",
      "  warnings.warn(\n"
     ]
    }
   ],
   "source": [
    "!pip install nxviz # missing in colab need to install\n",
    "from nxviz import ArcPlot"
   ]
  },
  {
   "cell_type": "code",
   "execution_count": null,
   "metadata": {
    "id": "J7Fxucy2JiFb"
   },
   "outputs": [],
   "source": [
    "import matplotlib.pyplot as plt"
   ]
  }
 ],
 "metadata": {
  "colab": {
   "provenance": [
    {
     "file_id": "1Hv7Pubo3tgRSQoca2eck0-RCWMeo7IFR",
     "timestamp": 1759570047996
    }
   ]
  },
  "kernelspec": {
   "display_name": "3.10.18",
   "language": "python",
   "name": "python3"
  },
  "language_info": {
   "name": "python",
   "version": "3.10.18"
  }
 },
 "nbformat": 4,
 "nbformat_minor": 0
}
