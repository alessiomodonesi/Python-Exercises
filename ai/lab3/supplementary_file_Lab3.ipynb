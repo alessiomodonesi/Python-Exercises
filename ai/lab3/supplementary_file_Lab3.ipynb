{
  "nbformat": 4,
  "nbformat_minor": 0,
  "metadata": {
    "colab": {
      "provenance": [],
      "include_colab_link": true
    },
    "kernelspec": {
      "name": "python3",
      "display_name": "Python 3"
    },
    "language_info": {
      "name": "python"
    }
  },
  "cells": [
    {
      "cell_type": "markdown",
      "metadata": {
        "id": "view-in-github",
        "colab_type": "text"
      },
      "source": [
        "<a href=\"https://colab.research.google.com/github/alessiomodonesi/Python-Exercises/blob/main/ai/lab3/supplementary_file_Lab3.ipynb\" target=\"_parent\"><img src=\"https://colab.research.google.com/assets/colab-badge.svg\" alt=\"Open In Colab\"/></a>"
      ]
    },
    {
      "cell_type": "code",
      "execution_count": null,
      "metadata": {
        "id": "F326o-TgNOQD"
      },
      "outputs": [],
      "source": [
        "def multimap(pairs) -> dict:\n",
        "    \"Given (key, val) pairs, make a dict of {key: [val,...]}.\"\n",
        "    result = defaultdict(list)\n",
        "    for key, val in pairs:\n",
        "        result[key].append(val)\n",
        "    return result"
      ]
    },
    {
      "cell_type": "code",
      "source": [
        "from collections import defaultdict, deque, Counter\n",
        "result = defaultdict(list)\n",
        "print(result)\n",
        "links =  {('O', 'Z'):  71, ('O', 'S'): 151, ('A', 'Z'): 75, ('A', 'S'): 140, ('A', 'T'): 118, ('L', 'T'): 111, ('L', 'M'):  70, ('D', 'M'): 75, ('C', 'D'): 120, ('C', 'R'): 146, ('C', 'P'): 138, ('R', 'S'):  80, ('F', 'S'): 99, ('B', 'F'): 211, ('B', 'P'): 101, ('B', 'G'):  90, ('B', 'U'):  85, ('H', 'U'): 98, ('E', 'H'):  86, ('U', 'V'): 142, ('I', 'V'):  92, ('I', 'N'):  87, ('P', 'R'): 97}\n",
        "multimap(links)"
      ],
      "metadata": {
        "colab": {
          "base_uri": "https://localhost:8080/"
        },
        "id": "O1MZAEugNSPg",
        "outputId": "bedfb109-40a2-4cf8-87ee-b4ecda08f574"
      },
      "execution_count": null,
      "outputs": [
        {
          "output_type": "stream",
          "name": "stdout",
          "text": [
            "defaultdict(<class 'list'>, {})\n"
          ]
        },
        {
          "output_type": "execute_result",
          "data": {
            "text/plain": [
              "defaultdict(list,\n",
              "            {'O': ['Z', 'S'],\n",
              "             'A': ['Z', 'S', 'T'],\n",
              "             'L': ['T', 'M'],\n",
              "             'D': ['M'],\n",
              "             'C': ['D', 'R', 'P'],\n",
              "             'R': ['S'],\n",
              "             'F': ['S'],\n",
              "             'B': ['F', 'P', 'G', 'U'],\n",
              "             'H': ['U'],\n",
              "             'E': ['H'],\n",
              "             'U': ['V'],\n",
              "             'I': ['V', 'N'],\n",
              "             'P': ['R']})"
            ]
          },
          "metadata": {},
          "execution_count": 2
        }
      ]
    },
    {
      "cell_type": "code",
      "source": [
        "a = (\"John\", \"Charles\", \"Mike\")\n",
        "b = (\"Jenny\", \"Christy\", \"Monica\", \"Vicky\")\n",
        "\n",
        "x = zip(a, b)\n",
        "for e in x:\n",
        "  print(e)"
      ],
      "metadata": {
        "colab": {
          "base_uri": "https://localhost:8080/"
        },
        "id": "x8LTdziqWYKT",
        "outputId": "abd7c796-530d-4ce6-b848-166022fb6c66"
      },
      "execution_count": null,
      "outputs": [
        {
          "output_type": "stream",
          "name": "stdout",
          "text": [
            "('John', 'Jenny')\n",
            "('Charles', 'Christy')\n",
            "('Mike', 'Monica')\n"
          ]
        }
      ]
    },
    {
      "cell_type": "code",
      "source": [
        "A = [1,2,3,4]\n",
        "B = [5,6,7,8]\n",
        "sum(abs(a - b)**2 for (a, b) in zip(A, B)) ** 0.5\n",
        "\n",
        "s= (1-5)**2 + (2-6)**2 + (3-7)**2 + (4-8)**2\n",
        "print(s)"
      ],
      "metadata": {
        "colab": {
          "base_uri": "https://localhost:8080/"
        },
        "id": "snXxJ5LeX7Fb",
        "outputId": "7d2d0ed9-c212-42cb-fb43-0056293b0255"
      },
      "execution_count": null,
      "outputs": [
        {
          "output_type": "stream",
          "name": "stdout",
          "text": [
            "64\n"
          ]
        }
      ]
    },
    {
      "cell_type": "code",
      "source": [
        "pankace_stack = (2,1,4,6,3,5)\n",
        "sorted(pankace_stack)"
      ],
      "metadata": {
        "colab": {
          "base_uri": "https://localhost:8080/"
        },
        "id": "2l2R8Km1jncS",
        "outputId": "932e0425-77a5-4ddb-9252-40f07e9d2421"
      },
      "execution_count": null,
      "outputs": [
        {
          "output_type": "execute_result",
          "data": {
            "text/plain": [
              "[1, 2, 3, 4, 5, 6]"
            ]
          },
          "metadata": {},
          "execution_count": 5
        }
      ]
    },
    {
      "cell_type": "code",
      "source": [
        "x = range(2, len(pankace_stack) + 1)\n",
        "print(x)"
      ],
      "metadata": {
        "colab": {
          "base_uri": "https://localhost:8080/"
        },
        "id": "I20ybkQclKhM",
        "outputId": "f7ba9667-805f-49f2-dfcd-5ecfa8a47f37"
      },
      "execution_count": null,
      "outputs": [
        {
          "output_type": "stream",
          "name": "stdout",
          "text": [
            "range(2, 7)\n"
          ]
        }
      ]
    },
    {
      "cell_type": "code",
      "source": [
        "i=3\n",
        "print(pankace_stack[:i])\n",
        "print(pankace_stack[:i][::-1])\n",
        "print(pankace_stack[i:])"
      ],
      "metadata": {
        "colab": {
          "base_uri": "https://localhost:8080/"
        },
        "id": "PBaTgAqel7MQ",
        "outputId": "0782419e-26a3-43ec-d2dd-292e318552d8"
      },
      "execution_count": null,
      "outputs": [
        {
          "output_type": "stream",
          "name": "stdout",
          "text": [
            "(2, 1, 4)\n",
            "(4, 1, 2)\n",
            "(6, 3, 5)\n"
          ]
        }
      ]
    },
    {
      "cell_type": "code",
      "source": [
        "\n",
        "print(sum(abs(pankace_stack[i] - pankace_stack[i - 1]) > 1 for i in range(1, len(pankace_stack))))\n",
        "\n",
        "#the first operation can be extended as follows:\n",
        "\n",
        "count = 0\n",
        "for i in range(1, len(pankace_stack)):\n",
        "  diff = abs(pankace_stack[i] - pankace_stack[i-1])\n",
        "  if diff > 1:\n",
        "    count+=1\n",
        "\n",
        "print(count)\n"
      ],
      "metadata": {
        "id": "dl5Yk9HQqJiP",
        "colab": {
          "base_uri": "https://localhost:8080/"
        },
        "outputId": "f18f8162-05e6-4a1b-febc-6bf6586c92c9"
      },
      "execution_count": null,
      "outputs": [
        {
          "output_type": "stream",
          "name": "stdout",
          "text": [
            "4\n",
            "4\n"
          ]
        }
      ]
    },
    {
      "cell_type": "code",
      "source": [
        "from collections import Counter\n",
        "coun = Counter()\n",
        "\n",
        "print(coun)\n",
        "\n",
        "coun.update([1,2,3,1,2,1,1,2])\n",
        "print(coun)\n",
        "\n",
        "coun.update([1, 2, 2, 4])\n",
        "print(coun)"
      ],
      "metadata": {
        "colab": {
          "base_uri": "https://localhost:8080/"
        },
        "id": "nQy48KngXesb",
        "outputId": "f842f091-ad5b-4e82-d085-4b9f400f6db1"
      },
      "execution_count": null,
      "outputs": [
        {
          "output_type": "stream",
          "name": "stdout",
          "text": [
            "Counter()\n",
            "Counter({1: 4, 2: 3, 3: 1})\n",
            "Counter({1: 5, 2: 5, 3: 1, 4: 1})\n"
          ]
        }
      ]
    }
  ]
}