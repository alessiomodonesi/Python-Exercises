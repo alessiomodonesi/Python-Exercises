{
  "cells": [
    {
      "cell_type": "markdown",
      "metadata": {
        "id": "view-in-github",
        "colab_type": "text"
      },
      "source": [
        "<a href=\"https://colab.research.google.com/github/alessiomodonesi/Python-Exercises/blob/main/ai/lab2/Intelligenza_Artificiale_Lab2_extra_exercises.ipynb\" target=\"_parent\"><img src=\"https://colab.research.google.com/assets/colab-badge.svg\" alt=\"Open In Colab\"/></a>"
      ]
    },
    {
      "cell_type": "markdown",
      "metadata": {
        "id": "pYLNm9AZVEDf"
      },
      "source": [
        "Exercise 1"
      ]
    },
    {
      "cell_type": "markdown",
      "metadata": {
        "id": "oI3apfJLV4Ao"
      },
      "source": [
        "You are requested to program the software for an e-commerce site.\n",
        "\n",
        "You will need to create the objects (and classes) that represent the different entities needed in the site:\n",
        "\n",
        "\n",
        "*   A class Product\n",
        "*   A class PriceList\n",
        "*   A class Cart\n",
        "*   A class PremiumPriceList"
      ]
    },
    {
      "cell_type": "markdown",
      "metadata": {
        "id": "dVr3m-_1X-nQ"
      },
      "source": [
        "A product has the following characteristics:\n",
        "*   id: unique numerical identifier of the product\n",
        "*   name: name of the product\n",
        "*   price: price of the product\n",
        "\n",
        "Add a method print to print the attributes of the Product"
      ]
    },
    {
      "cell_type": "code",
      "execution_count": 8,
      "metadata": {
        "id": "Ong94kKaTkMg"
      },
      "outputs": [],
      "source": [
        "# code here the class Product considering the attributes mentioned before\n",
        "class Product:\n",
        "  def __init__(self, id, name, price):\n",
        "    self.id = id\n",
        "    self.name = name\n",
        "    self.price = price"
      ]
    },
    {
      "cell_type": "markdown",
      "metadata": {
        "id": "oP-MISy6Z5zR"
      },
      "source": [
        "Now write the class PriceList that manages a shop's price list.\n",
        "\n",
        "This class contains instances of the Product class (the class just written).\n",
        "\n",
        "Furthermore, the PriceList class must allow the following functionalities:\n",
        "\n",
        "*  add Product in the PriceList\n",
        "*  find the price of a Product from its id\n",
        "*  compute the total value of the PriceList (given by the sum of the prices of each product contained in the PriceList)"
      ]
    },
    {
      "cell_type": "code",
      "execution_count": 14,
      "metadata": {
        "id": "K8Fhl6aMc5C2"
      },
      "outputs": [],
      "source": [
        "# code here the class PriceList considering the functionalities mentioned before\n",
        "class PriceList():\n",
        "  def __init__(self):\n",
        "    self.products = []\n",
        "\n",
        "  def add_product(self, product):\n",
        "    self.products.append(product)\n",
        "\n",
        "  def find_price(self, id):\n",
        "    for product in self.products:\n",
        "      if product.id == id:\n",
        "        return product.price\n",
        "    return None\n",
        "\n",
        "  def compute_total(self):\n",
        "    total = 0\n",
        "    for product in self.products:\n",
        "      total += product.price\n",
        "    return total"
      ]
    },
    {
      "cell_type": "code",
      "execution_count": 15,
      "metadata": {
        "id": "5KKrmgHCc_G5",
        "colab": {
          "base_uri": "https://localhost:8080/"
        },
        "outputId": "772bc3ca-fe72-4634-b844-580e63eb2bbf"
      },
      "outputs": [
        {
          "output_type": "stream",
          "name": "stdout",
          "text": [
            "Prezzo del prodotto con ID 2: 0.3\n",
            "Prezzo del prodotto con ID 5: None\n",
            "Valore totale della lista: 1.20\n"
          ]
        }
      ],
      "source": [
        "# add a main to check if all is working properly\n",
        "p1 = Product(1, \"Mela\", 0.50)\n",
        "p2 = Product(2, \"Banana\", 0.30)\n",
        "p3 = Product(3, \"Arancia\", 0.40)\n",
        "\n",
        "pl = PriceList()\n",
        "pl.add_product(p1)\n",
        "pl.add_product(p2)\n",
        "pl.add_product(p3)\n",
        "\n",
        "print(f\"Prezzo del prodotto con ID 2: {pl.find_price(2)}\") # f = format()\n",
        "print(f\"Prezzo del prodotto con ID 5: {pl.find_price(5)}\")\n",
        "print(f\"Valore totale della lista: {pl.compute_total():.2f}\")\n"
      ]
    },
    {
      "cell_type": "markdown",
      "metadata": {
        "id": "ffgLRF9Edcm9"
      },
      "source": [
        "In addition to the Price List class, the Cart class also uses the Product class.\n",
        "\n",
        "The Cart class has the following functionalities:\n",
        "*   add a Product with the relative quantity\n",
        "*   compute the total value of the Cart (given by the sum of the prices of each product contained in the Cart)"
      ]
    },
    {
      "cell_type": "code",
      "execution_count": 12,
      "metadata": {
        "id": "2LvtVxl0d7hg"
      },
      "outputs": [],
      "source": [
        "# code here the class Cart considering the functionalities mentioned before\n",
        "class Cart():\n",
        "  def __init__(self):\n",
        "    self.products = []\n",
        "\n",
        "  def add_product(self, product):\n",
        "    self.products.append(product)\n",
        "\n",
        "  def compute_total(self):\n",
        "    total = 0\n",
        "    for product in self.products:\n",
        "      total += product.price\n",
        "    return total"
      ]
    },
    {
      "cell_type": "code",
      "execution_count": 16,
      "metadata": {
        "id": "3bJt_p8ce_86",
        "colab": {
          "base_uri": "https://localhost:8080/"
        },
        "outputId": "0b6c071f-fff0-4a77-968f-0ffe4e0897a8"
      },
      "outputs": [
        {
          "output_type": "stream",
          "name": "stdout",
          "text": [
            "Valore totale del carrello: 1.20\n"
          ]
        }
      ],
      "source": [
        "# add a main to check if all is working properly\n",
        "p1 = Product(1, \"Mela\", 0.50)\n",
        "p2 = Product(2, \"Banana\", 0.30)\n",
        "p3 = Product(3, \"Arancia\", 0.40)\n",
        "\n",
        "cart = Cart()\n",
        "cart.add_product(p1)\n",
        "cart.add_product(p2)\n",
        "cart.add_product(p3)\n",
        "\n",
        "print(f\"Valore totale del carrello: {cart.compute_total():.2f}\")"
      ]
    },
    {
      "cell_type": "markdown",
      "metadata": {
        "id": "nCo9dNg-ffoU"
      },
      "source": [
        "Now write the code of the PremiumPriceList class that inherits the attributes and methods from the PriceList class and adds the following features:\n",
        "*   compute the total price by indicating the product (via id) and quantity. However,  for a quantity greater than the one defined in the premium price list, a discount is applied (value defined in the price list) to the total price.\n",
        "\n",
        "NB: Based on this request, the PremiumPriceList will have two class variables inside to manage the quantity and the discount.\n",
        "\n",
        "\n",
        "*  copy prices from another PriceList. Given a L1 PriceList and a L2 PriceList given as a parameter, all the items and the relative prices of L2 will be copied to L1 with the exception of the items already present in L1 (NO overwriting)"
      ]
    },
    {
      "cell_type": "code",
      "execution_count": null,
      "metadata": {
        "id": "jSQ50YyhhXgs"
      },
      "outputs": [],
      "source": [
        "# code here the class PremiumPriceList considering the functionalities mentioned before\n",
        "class PremiumPriceList(PriceList):\n",
        "  def __init__(self):\n",
        "    super().__init__()\n",
        "    self.quantity = {}\n",
        "    self.discount = {}\n",
        "\n",
        "  def add_product(self, product, quantity, discount):\n",
        "    super().add_product(product)\n",
        "    self.quantity[product.id] = quantity\n",
        "    self.discount[product.id] = discount\n",
        "\n",
        "  def compute_total(self, product_id, quantity):\n",
        "    price = super().find_price(product_id)\n",
        "    if price is None:\n",
        "      return None"
      ]
    },
    {
      "cell_type": "code",
      "execution_count": null,
      "metadata": {
        "id": "9-KygJhQidfD"
      },
      "outputs": [],
      "source": [
        "# add a main to check if all is working properly"
      ]
    },
    {
      "cell_type": "markdown",
      "metadata": {
        "id": "RQLW8JVmM70e"
      },
      "source": [
        "Exercise 2"
      ]
    },
    {
      "cell_type": "markdown",
      "metadata": {
        "id": "EcIlmMBENA24"
      },
      "source": [
        "Starting from the list old_list = [[1, 1, 1], [2, 2, 2], [3, 3, 3]], create a shallow copy and then modify the list in order to store [[1, 1, 1], [2, 2, 'BB'], [3, 3, 3]]"
      ]
    },
    {
      "cell_type": "code",
      "execution_count": null,
      "metadata": {
        "id": "bCy5N4lXNj6h"
      },
      "outputs": [],
      "source": [
        "# Use the module copy"
      ]
    },
    {
      "cell_type": "markdown",
      "metadata": {
        "id": "A8v8JXcVOAqk"
      },
      "source": [
        "Exercise 3"
      ]
    },
    {
      "cell_type": "markdown",
      "metadata": {
        "id": "ljdBzXWLOCdE"
      },
      "source": [
        "Starting from the list old_list = [[1, 1, 1], [2, 2, 2], [3, 3, 3]], create a deep copy and then modify the list in order to store [[1, 1, 1], [2, 2, 'BB'], [3, 3, 3]]"
      ]
    },
    {
      "cell_type": "code",
      "execution_count": null,
      "metadata": {
        "id": "WCfRX1ewOUZ8"
      },
      "outputs": [],
      "source": [
        "# Use the module copy"
      ]
    },
    {
      "cell_type": "markdown",
      "metadata": {
        "id": "dwRNLj60Pf4F"
      },
      "source": [
        "Exercise 4"
      ]
    },
    {
      "cell_type": "markdown",
      "metadata": {
        "id": "gsTq_zMgOPt9"
      },
      "source": [
        "Write a Python class Restaurant with attributes:\n",
        "*   menu_items\n",
        "*   booked_table\n",
        "*   customer_orders\n",
        "\n",
        "and methods:\n",
        "*   add_item_to_menu(item, price)\n",
        "*   book_tables(table)\n",
        "*   customer_order(table, item)\n",
        "\n",
        "In the main, perform the following tasks now:\n",
        "\n",
        "    Now add items to the menu.\n",
        "    Make table reservations.\n",
        "    Take customer orders.\n",
        "    Print the menu.\n",
        "    Print table reservations.\n",
        "    Print customer orders.\n",
        "\n",
        "Note: Use dictionaries and lists to store the data."
      ]
    }
  ],
  "metadata": {
    "colab": {
      "provenance": [],
      "include_colab_link": true
    },
    "kernelspec": {
      "display_name": "3.10.18",
      "language": "python",
      "name": "python3"
    },
    "language_info": {
      "name": "python",
      "version": "3.10.18"
    }
  },
  "nbformat": 4,
  "nbformat_minor": 0
}