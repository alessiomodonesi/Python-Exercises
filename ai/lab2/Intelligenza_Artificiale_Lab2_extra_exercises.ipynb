{
  "nbformat": 4,
  "nbformat_minor": 0,
  "metadata": {
    "colab": {
      "provenance": [],
      "include_colab_link": true
    },
    "kernelspec": {
      "name": "python3",
      "display_name": "Python 3"
    },
    "language_info": {
      "name": "python"
    }
  },
  "cells": [
    {
      "cell_type": "markdown",
      "metadata": {
        "id": "view-in-github",
        "colab_type": "text"
      },
      "source": [
        "<a href=\"https://colab.research.google.com/github/alessiomodonesi/Python-Exercises/blob/main/ai/lab2/Intelligenza_Artificiale_Lab2_extra_exercises.ipynb\" target=\"_parent\"><img src=\"https://colab.research.google.com/assets/colab-badge.svg\" alt=\"Open In Colab\"/></a>"
      ]
    },
    {
      "cell_type": "markdown",
      "source": [
        "Exercise 1"
      ],
      "metadata": {
        "id": "pYLNm9AZVEDf"
      }
    },
    {
      "cell_type": "markdown",
      "source": [
        "You are requested to program the software for an e-commerce site.\n",
        "\n",
        "You will need to create the objects (and classes) that represent the different entities needed in the site:\n",
        "\n",
        "\n",
        "*   A class Product\n",
        "*   A class PriceList\n",
        "*   A class Cart\n",
        "*   A class PremiumPriceList"
      ],
      "metadata": {
        "id": "oI3apfJLV4Ao"
      }
    },
    {
      "cell_type": "markdown",
      "source": [
        "A product has the following characteristics:\n",
        "*   id: unique numerical identifier of the product\n",
        "*   name: name of the product\n",
        "*   price: price of the product\n",
        "\n",
        "Add a method print to print the attributes of the Product"
      ],
      "metadata": {
        "id": "dVr3m-_1X-nQ"
      }
    },
    {
      "cell_type": "code",
      "execution_count": null,
      "metadata": {
        "id": "Ong94kKaTkMg"
      },
      "outputs": [],
      "source": [
        "# code here the class Product considering the attributes mentioned before"
      ]
    },
    {
      "cell_type": "markdown",
      "source": [
        "Now write the class PriceList that manages a shop's price list.\n",
        "\n",
        "This class contains instances of the Product class (the class just written).\n",
        "\n",
        "Furthermore, the PriceList class must allow the following functionalities:\n",
        "\n",
        "*  add Product in the PriceList\n",
        "*  find the price of a Product from its id\n",
        "*  compute the total value of the PriceList (given by the sum of the prices of each product contained in the PriceList)"
      ],
      "metadata": {
        "id": "oP-MISy6Z5zR"
      }
    },
    {
      "cell_type": "code",
      "source": [
        "# code here the class PriceList considering the functionalities mentioned before"
      ],
      "metadata": {
        "id": "K8Fhl6aMc5C2"
      },
      "execution_count": null,
      "outputs": []
    },
    {
      "cell_type": "code",
      "source": [
        "# add a main to check if all is working properly"
      ],
      "metadata": {
        "id": "5KKrmgHCc_G5"
      },
      "execution_count": null,
      "outputs": []
    },
    {
      "cell_type": "markdown",
      "source": [
        "In addition to the Price List class, the Cart class also uses the Product class.\n",
        "\n",
        "The Cart class has the following functionalities:\n",
        "*   add a Product with the relative quantity\n",
        "*   compute the total value of the Cart (given by the sum of the prices of each product contained in the Cart)"
      ],
      "metadata": {
        "id": "ffgLRF9Edcm9"
      }
    },
    {
      "cell_type": "code",
      "source": [
        "# code here the class Cart considering the functionalities mentioned before"
      ],
      "metadata": {
        "id": "2LvtVxl0d7hg"
      },
      "execution_count": null,
      "outputs": []
    },
    {
      "cell_type": "code",
      "source": [
        "# add a main to check if all is working properly"
      ],
      "metadata": {
        "id": "3bJt_p8ce_86"
      },
      "execution_count": null,
      "outputs": []
    },
    {
      "cell_type": "markdown",
      "source": [
        "Now write the code of the PremiumPriceList class that inherits the attributes and methods from the PriceList class and adds the following features:\n",
        "*   compute the total price by indicating the product (via id) and quantity. However,  for a quantity greater than the one defined in the premium price list, a discount is applied (value defined in the price list) to the total price.\n",
        "\n",
        "NB: Based on this request, the PremiumPriceList will have two class variables inside to manage the quantity and the discount.\n",
        "\n",
        "\n",
        "*  copy prices from another PriceList. Given a L1 PriceList and a L2 PriceList given as a parameter, all the items and the relative prices of L2 will be copied to L1 with the exception of the items already present in L1 (NO overwriting)"
      ],
      "metadata": {
        "id": "nCo9dNg-ffoU"
      }
    },
    {
      "cell_type": "code",
      "source": [
        "# code here the class PremiumPriceList considering the functionalities mentioned before"
      ],
      "metadata": {
        "id": "jSQ50YyhhXgs"
      },
      "execution_count": null,
      "outputs": []
    },
    {
      "cell_type": "code",
      "source": [
        "# add a main to check if all is working properly"
      ],
      "metadata": {
        "id": "9-KygJhQidfD"
      },
      "execution_count": null,
      "outputs": []
    },
    {
      "cell_type": "markdown",
      "source": [
        "Exercise 2"
      ],
      "metadata": {
        "id": "RQLW8JVmM70e"
      }
    },
    {
      "cell_type": "markdown",
      "source": [
        "Starting from the list old_list = [[1, 1, 1], [2, 2, 2], [3, 3, 3]], create a shallow copy and then modify the list in order to store [[1, 1, 1], [2, 2, 'BB'], [3, 3, 3]]"
      ],
      "metadata": {
        "id": "EcIlmMBENA24"
      }
    },
    {
      "cell_type": "code",
      "source": [
        "# Use the module copy"
      ],
      "metadata": {
        "id": "bCy5N4lXNj6h"
      },
      "execution_count": null,
      "outputs": []
    },
    {
      "cell_type": "markdown",
      "source": [
        "Exercise 3"
      ],
      "metadata": {
        "id": "A8v8JXcVOAqk"
      }
    },
    {
      "cell_type": "markdown",
      "source": [
        "Starting from the list old_list = [[1, 1, 1], [2, 2, 2], [3, 3, 3]], create a deep copy and then modify the list in order to store [[1, 1, 1], [2, 2, 'BB'], [3, 3, 3]]"
      ],
      "metadata": {
        "id": "ljdBzXWLOCdE"
      }
    },
    {
      "cell_type": "code",
      "source": [
        "# Use the module copy"
      ],
      "metadata": {
        "id": "WCfRX1ewOUZ8"
      },
      "execution_count": null,
      "outputs": []
    },
    {
      "cell_type": "markdown",
      "source": [
        "Exercise 4"
      ],
      "metadata": {
        "id": "dwRNLj60Pf4F"
      }
    },
    {
      "cell_type": "markdown",
      "source": [
        "Write a Python class Restaurant with attributes:\n",
        "*   menu_items\n",
        "*   booked_table\n",
        "*   customer_orders\n",
        "\n",
        "and methods:\n",
        "*   add_item_to_menu(item, price)\n",
        "*   book_tables(table)\n",
        "*   customer_order(table, item)\n",
        "\n",
        "In the main, perform the following tasks now:\n",
        "\n",
        "    Now add items to the menu.\n",
        "    Make table reservations.\n",
        "    Take customer orders.\n",
        "    Print the menu.\n",
        "    Print table reservations.\n",
        "    Print customer orders.\n",
        "\n",
        "Note: Use dictionaries and lists to store the data."
      ],
      "metadata": {
        "id": "gsTq_zMgOPt9"
      }
    }
  ]
}