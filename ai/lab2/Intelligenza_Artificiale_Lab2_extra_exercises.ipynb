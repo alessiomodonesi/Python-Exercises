{
  "cells": [
    {
      "cell_type": "markdown",
      "metadata": {
        "id": "view-in-github",
        "colab_type": "text"
      },
      "source": [
        "<a href=\"https://colab.research.google.com/github/alessiomodonesi/Python-Exercises/blob/main/ai/lab2/Intelligenza_Artificiale_Lab2_extra_exercises.ipynb\" target=\"_parent\"><img src=\"https://colab.research.google.com/assets/colab-badge.svg\" alt=\"Open In Colab\"/></a>"
      ]
    },
    {
      "cell_type": "markdown",
      "metadata": {
        "id": "pYLNm9AZVEDf"
      },
      "source": [
        "Exercise 1"
      ]
    },
    {
      "cell_type": "markdown",
      "metadata": {
        "id": "oI3apfJLV4Ao"
      },
      "source": [
        "You are requested to program the software for an e-commerce site.\n",
        "\n",
        "You will need to create the objects (and classes) that represent the different entities needed in the site:\n",
        "\n",
        "\n",
        "*   A class Product\n",
        "*   A class PriceList\n",
        "*   A class Cart\n",
        "*   A class PremiumPriceList"
      ]
    },
    {
      "cell_type": "markdown",
      "metadata": {
        "id": "dVr3m-_1X-nQ"
      },
      "source": [
        "A product has the following characteristics:\n",
        "*   id: unique numerical identifier of the product\n",
        "*   name: name of the product\n",
        "*   price: price of the product\n",
        "\n",
        "Add a method print to print the attributes of the Product"
      ]
    },
    {
      "cell_type": "code",
      "execution_count": 9,
      "metadata": {
        "id": "Ong94kKaTkMg"
      },
      "outputs": [],
      "source": [
        "# code here the class Product considering the attributes mentioned before\n",
        "class Product:\n",
        "  def __init__(self, id, name, price):\n",
        "    self.id = int(id)\n",
        "    self.name = str(name)\n",
        "    self.price = float(price)"
      ]
    },
    {
      "cell_type": "markdown",
      "metadata": {
        "id": "oP-MISy6Z5zR"
      },
      "source": [
        "Now write the class PriceList that manages a shop's price list.\n",
        "\n",
        "This class contains instances of the Product class (the class just written).\n",
        "\n",
        "Furthermore, the PriceList class must allow the following functionalities:\n",
        "\n",
        "*  add Product in the PriceList\n",
        "*  find the price of a Product from its id\n",
        "*  compute the total value of the PriceList (given by the sum of the prices of each product contained in the PriceList)"
      ]
    },
    {
      "cell_type": "code",
      "execution_count": 10,
      "metadata": {
        "id": "K8Fhl6aMc5C2"
      },
      "outputs": [],
      "source": [
        "# code here the class PriceList considering the functionalities mentioned before\n",
        "class PriceList():\n",
        "  def __init__(self):\n",
        "    self.products = []\n",
        "\n",
        "  def add_product(self, product):\n",
        "    self.products.append(product)\n",
        "\n",
        "  def find_price(self, id):\n",
        "    for product in self.products:\n",
        "      if product.id == int(id):\n",
        "        return product.price\n",
        "    return None\n",
        "\n",
        "  def compute_total(self):\n",
        "    total = 0\n",
        "    for product in self.products:\n",
        "      total += product.price\n",
        "    return total"
      ]
    },
    {
      "cell_type": "code",
      "execution_count": 13,
      "metadata": {
        "id": "5KKrmgHCc_G5",
        "colab": {
          "base_uri": "https://localhost:8080/"
        },
        "outputId": "224cf193-5633-4c5a-dcc8-e5b224dfdaeb"
      },
      "outputs": [
        {
          "output_type": "stream",
          "name": "stdout",
          "text": [
            "Prezzo del prodotto con ID 2: 0.3\n",
            "Prezzo del prodotto con ID 5: None\n",
            "Valore totale della lista: 1.20\n"
          ]
        }
      ],
      "source": [
        "# add a main to check if all is working properly\n",
        "p1 = Product(1, \"Mela\", 0.50)\n",
        "p2 = Product(2, \"Banana\", 0.30)\n",
        "p3 = Product(3, \"Arancia\", 0.40)\n",
        "\n",
        "pl = PriceList()\n",
        "pl.add_product(p1)\n",
        "pl.add_product(p2)\n",
        "pl.add_product(p3)\n",
        "\n",
        "print(f\"Prezzo del prodotto con ID 2: {pl.find_price(2)}\") # f = format()\n",
        "print(f\"Prezzo del prodotto con ID 5: {pl.find_price(5)}\")\n",
        "print(f\"Valore totale della lista: {pl.compute_total():.2f}\")\n"
      ]
    },
    {
      "cell_type": "markdown",
      "metadata": {
        "id": "ffgLRF9Edcm9"
      },
      "source": [
        "In addition to the Price List class, the Cart class also uses the Product class.\n",
        "\n",
        "The Cart class has the following functionalities:\n",
        "*   add a Product with the relative quantity\n",
        "*   compute the total value of the Cart (given by the sum of the prices of each product contained in the Cart)"
      ]
    },
    {
      "cell_type": "code",
      "execution_count": 26,
      "metadata": {
        "id": "2LvtVxl0d7hg"
      },
      "outputs": [],
      "source": [
        "# code here the class Cart considering the functionalities mentioned before\n",
        "class Cart():\n",
        "  def __init__(self):\n",
        "    self.products = {}\n",
        "\n",
        "  def add_product(self, product, quantity):\n",
        "    if quantity > 0:\n",
        "      self.products[product] = quantity\n",
        "\n",
        "  def compute_total(self):\n",
        "    total = 0\n",
        "    # itera su ogni coppia (prodotto, quantità) nel dizionario\n",
        "    for product, quantity in self.products.items():\n",
        "      total += product.price * quantity\n",
        "    return total"
      ]
    },
    {
      "cell_type": "code",
      "execution_count": 27,
      "metadata": {
        "id": "3bJt_p8ce_86",
        "colab": {
          "base_uri": "https://localhost:8080/"
        },
        "outputId": "da52876c-eb69-4cf5-c46b-e506ce3c3f1d"
      },
      "outputs": [
        {
          "output_type": "stream",
          "name": "stdout",
          "text": [
            "Valore totale del carrello: 3.50\n"
          ]
        }
      ],
      "source": [
        "# add a main to check if all is working properly\n",
        "p1 = Product(1, \"Mela\", 0.50)\n",
        "p2 = Product(2, \"Banana\", 0.30)\n",
        "p3 = Product(3, \"Arancia\", 0.40)\n",
        "\n",
        "cart = Cart()\n",
        "cart.add_product(p1, 2)\n",
        "cart.add_product(p2, 3)\n",
        "cart.add_product(p3, 4)\n",
        "\n",
        "print(f\"Valore totale del carrello: {cart.compute_total():.2f}\")"
      ]
    },
    {
      "cell_type": "markdown",
      "metadata": {
        "id": "nCo9dNg-ffoU"
      },
      "source": [
        "Now write the code of the PremiumPriceList class that inherits the attributes and methods from the PriceList class and adds the following features:\n",
        "*   compute the total price by indicating the product (via id) and quantity. However,  for a quantity greater than the one defined in the premium price list, a discount is applied (value defined in the price list) to the total price.\n",
        "\n",
        "NB: Based on this request, the PremiumPriceList will have two class variables inside to manage the quantity and the discount.\n",
        "\n",
        "\n",
        "*  copy prices from another PriceList. Given a L1 PriceList and a L2 PriceList given as a parameter, all the items and the relative prices of L2 will be copied to L1 with the exception of the items already present in L1 (NO overwriting)"
      ]
    },
    {
      "cell_type": "code",
      "execution_count": 29,
      "metadata": {
        "id": "jSQ50YyhhXgs"
      },
      "outputs": [],
      "source": [
        "# code here the class PremiumPriceList considering the functionalities mentioned before\n",
        "class PremiumPriceList(PriceList):\n",
        "    \"\"\"\n",
        "    Estende PriceList aggiungendo logiche di sconto basate sulla quantità\n",
        "    e la funzionalità di copia da altre liste.\n",
        "    \"\"\"\n",
        "    def __init__(self):\n",
        "        # Chiama il costruttore della classe base (PriceList)\n",
        "        super().__init__()\n",
        "        # Dizionari per memorizzare la soglia di quantità e lo sconto per ogni prodotto\n",
        "        self.quantity_thresholds = {} # {prodotto: soglia_quantità}\n",
        "        self.discounts = {}           # {prodotto: sconto_percentuale}\n",
        "\n",
        "    def add_product(self, product, quantity_threshold, discount):\n",
        "        \"\"\"\n",
        "        Aggiunge un prodotto e le sue informazioni per lo sconto.\n",
        "        Lo sconto è un valore tra 0.0 (0%) e 1.0 (100%).\n",
        "        \"\"\"\n",
        "        super().add_product(product) # Usa il metodo della classe base per aggiungere il prodotto\n",
        "        if 0 < discount <= 1.0:\n",
        "            self.quantity_thresholds[product] = quantity_threshold\n",
        "            self.discounts[product] = discount\n",
        "\n",
        "    def compute_price_with_discount(self, product_id, quantity):\n",
        "        \"\"\"\n",
        "        Calcola il prezzo totale per un prodotto specifico e una quantità,\n",
        "        applicando lo sconto se la quantità supera la soglia.\n",
        "        \"\"\"\n",
        "        price = self.find_price(product_id)\n",
        "        if price is None:\n",
        "            return None # Il prodotto non esiste nella lista\n",
        "\n",
        "        total_price = price * quantity\n",
        "\n",
        "        # Cerca il prodotto per ottenere le sue info di sconto\n",
        "        for product in self.products:\n",
        "            if product.id == int(product_id):\n",
        "                threshold = self.quantity_thresholds.get(product, 0)\n",
        "                discount = self.discounts.get(product, 0)\n",
        "\n",
        "                # Applica lo sconto se la quantità è maggiore della soglia\n",
        "                if quantity > threshold:\n",
        "                    total_price *= (1 - discount)\n",
        "                break # Esci dal ciclo una volta trovato il prodotto\n",
        "\n",
        "        return total_price\n",
        "\n",
        "    def copy_from(self, another_pricelist):\n",
        "        \"\"\"\n",
        "        Copia prodotti e prezzi da un'altra PriceList (L2) a questa (L1),\n",
        "        senza sovrascrivere gli articoli già presenti.\n",
        "        \"\"\"\n",
        "        # Crea un set di ID dei prodotti già esistenti per una ricerca veloce\n",
        "        existing_ids = {product.id for product in self.products}\n",
        "\n",
        "        for product_to_copy in another_pricelist.products:\n",
        "            if product_to_copy.id not in existing_ids:\n",
        "                # Se il prodotto non esiste, lo aggiunge.\n",
        "                # Se la lista da cui copiamo è Premium, copia anche i dati dello sconto.\n",
        "                if isinstance(another_pricelist, PremiumPriceList):\n",
        "                    threshold = another_pricelist.quantity_thresholds.get(product_to_copy, 0)\n",
        "                    discount = another_pricelist.discounts.get(product_to_copy, 0)\n",
        "                    self.add_product(product_to_copy, threshold, discount)\n",
        "                else:\n",
        "                    # Se è una PriceList normale, aggiunge senza sconto\n",
        "                    self.add_product(product_to_copy, 0, 0)"
      ]
    },
    {
      "cell_type": "code",
      "execution_count": 35,
      "metadata": {
        "id": "9-KygJhQidfD",
        "colab": {
          "base_uri": "https://localhost:8080/"
        },
        "outputId": "c443d126-92ba-41ef-882b-a0a764e991a3"
      },
      "outputs": [
        {
          "output_type": "stream",
          "name": "stdout",
          "text": [
            "--- Test Calcolo Prezzo con Sconto ---\n",
            "Prezzo per 4 mele (ID 1): 2.00€\n",
            "Prezzo per 10 mele (ID 1): 4.50€\n",
            "Prezzo per prodotto con ID 99: None\n",
            "\n",
            "--- Test Funzionalità di Copia ---\n",
            "Prodotti in ppl1 PRIMA della copia: ['Mela', 'Banana']\n",
            "Prodotti in ppl1 DOPO la copia: ['Mela', 'Banana', 'Kiwi']\n",
            "Prezzo del Kiwi (ID 4) in ppl1: 0.60€\n"
          ]
        }
      ],
      "source": [
        "# add a main to check if all is working properly\n",
        "ppl1 = PremiumPriceList()\n",
        "p1 = Product(1, \"Mela\", 0.50)\n",
        "p2 = Product(2, \"Banana\", 0.30)\n",
        "p3 = Product(3, \"Arancia\", 0.40)\n",
        "\n",
        "# Aggiungiamo prodotti con soglie e sconti\n",
        "# Per le mele, sconto del 10% se ne compri più di 5\n",
        "ppl1.add_product(p1, quantity_threshold=5, discount=0.10)\n",
        "# Per le banane, sconto del 20% se ne compri più di 10\n",
        "ppl1.add_product(p2, quantity_threshold=10, discount=0.20)\n",
        "\n",
        "print(\"--- Test Calcolo Prezzo con Sconto ---\")\n",
        "# Test 1: Quantità SOTTO la soglia (nessuno sconto)\n",
        "prezzo_mele_sotto_soglia = ppl1.compute_price_with_discount(1, 4) # 4 * 0.50 = 2.00\n",
        "print(f\"Prezzo per 4 mele (ID 1): {prezzo_mele_sotto_soglia:.2f}€\")\n",
        "\n",
        "# Test 2: Quantità SOPRA la soglia (sconto applicato)\n",
        "prezzo_mele_sopra_soglia = ppl1.compute_price_with_discount(1, 10) # 10 * 0.50 = 5.00 -> 5.00 * 0.90 = 4.50\n",
        "print(f\"Prezzo per 10 mele (ID 1): {prezzo_mele_sopra_soglia:.2f}€\")\n",
        "\n",
        "# Test 3: Prodotto non esistente\n",
        "prezzo_inesistente = ppl1.compute_price_with_discount(99, 5)\n",
        "print(f\"Prezzo per prodotto con ID 99: {prezzo_inesistente}\")\n",
        "\n",
        "# 2. Test della funzionalità di copia\n",
        "print(\"\\n--- Test Funzionalità di Copia ---\")\n",
        "ppl2 = PremiumPriceList()\n",
        "p4 = Product(4, \"Kiwi\", 0.60)\n",
        "\n",
        "# Aggiungiamo un prodotto già esistente (p2) e uno nuovo (p4)\n",
        "ppl2.add_product(p2, 5, 0.15) # Questo non verrà copiato\n",
        "ppl2.add_product(p4, 2, 0.05) # Questo verrà copiato\n",
        "print(f\"Prodotti in ppl1 PRIMA della copia: {[p.name for p in ppl1.products]}\")\n",
        "\n",
        "# Copiamo da ppl2 a ppl1\n",
        "ppl1.copy_from(ppl2)\n",
        "print(f\"Prodotti in ppl1 DOPO la copia: {[p.name for p in ppl1.products]}\")\n",
        "\n",
        "# Verifichiamo che il prezzo del nuovo prodotto sia corretto\n",
        "prezzo_kiwi = ppl1.find_price(4)\n",
        "print(f\"Prezzo del Kiwi (ID 4) in ppl1: {prezzo_kiwi:.2f}€\")"
      ]
    },
    {
      "cell_type": "markdown",
      "metadata": {
        "id": "RQLW8JVmM70e"
      },
      "source": [
        "Exercise 2"
      ]
    },
    {
      "cell_type": "markdown",
      "metadata": {
        "id": "EcIlmMBENA24"
      },
      "source": [
        "Starting from the list old_list = [[1, 1, 1], [2, 2, 2], [3, 3, 3]], create a shallow copy and then modify the list in order to store [[1, 1, 1], [2, 2, 'BB'], [3, 3, 3]]"
      ]
    },
    {
      "cell_type": "code",
      "execution_count": 39,
      "metadata": {
        "id": "bCy5N4lXNj6h",
        "colab": {
          "base_uri": "https://localhost:8080/"
        },
        "outputId": "4b576cbe-eda7-4de8-ef27-d226491d3229"
      },
      "outputs": [
        {
          "output_type": "stream",
          "name": "stdout",
          "text": [
            "old list: [[1, 1, 1], [2, 2, 2], [3, 3, 3]]\n",
            "new list cambiata: [[1, 1, 1], [2, 'BB', 2], [3, 3, 3]]\n",
            "old list cambia di conseguenza: [[1, 1, 1], [2, 'BB', 2], [3, 3, 3]]\n"
          ]
        }
      ],
      "source": [
        "# Use the module copy\n",
        "import copy as cp\n",
        "\n",
        "old_list = [[1, 1, 1], [2, 2, 2], [3, 3, 3]]\n",
        "print(f\"old list: {old_list}\")\n",
        "new_list = cp.copy(old_list)\n",
        "new_list[1][1] = 'BB'\n",
        "\n",
        "print(f\"new list cambiata: {new_list}\")\n",
        "print(f\"old list cambia di conseguenza: {old_list}\")"
      ]
    },
    {
      "cell_type": "markdown",
      "metadata": {
        "id": "A8v8JXcVOAqk"
      },
      "source": [
        "Exercise 3"
      ]
    },
    {
      "cell_type": "markdown",
      "metadata": {
        "id": "ljdBzXWLOCdE"
      },
      "source": [
        "Starting from the list old_list = [[1, 1, 1], [2, 2, 2], [3, 3, 3]], create a deep copy and then modify the list in order to store [[1, 1, 1], [2, 2, 'BB'], [3, 3, 3]]"
      ]
    },
    {
      "cell_type": "code",
      "execution_count": 41,
      "metadata": {
        "id": "WCfRX1ewOUZ8",
        "colab": {
          "base_uri": "https://localhost:8080/"
        },
        "outputId": "8c13ee18-b376-41ca-d490-37512a3faf5b"
      },
      "outputs": [
        {
          "output_type": "stream",
          "name": "stdout",
          "text": [
            "old list: [[1, 1, 1], [2, 2, 2], [3, 3, 3]]\n",
            "new list cambiata: [[1, 1, 1], [2, 'BB', 2], [3, 3, 3]]\n",
            "old list non cambia: [[1, 1, 1], [2, 2, 2], [3, 3, 3]]\n"
          ]
        }
      ],
      "source": [
        "# Use the module copy\n",
        "import copy as cp\n",
        "\n",
        "old_list = [[1, 1, 1], [2, 2, 2], [3, 3, 3]]\n",
        "print(f\"old list: {old_list}\")\n",
        "new_list = cp.deepcopy(old_list)\n",
        "new_list[1][1] = 'BB'\n",
        "\n",
        "print(f\"new list cambiata: {new_list}\")\n",
        "print(f\"old list non cambia: {old_list}\")"
      ]
    },
    {
      "cell_type": "markdown",
      "metadata": {
        "id": "dwRNLj60Pf4F"
      },
      "source": [
        "Exercise 4"
      ]
    },
    {
      "cell_type": "markdown",
      "metadata": {
        "id": "gsTq_zMgOPt9"
      },
      "source": [
        "Write a Python class Restaurant with attributes:\n",
        "*   menu_items\n",
        "*   booked_table\n",
        "*   customer_orders\n",
        "\n",
        "and methods:\n",
        "*   add_item_to_menu(item, price)\n",
        "*   book_tables(table)\n",
        "*   customer_order(table, item)\n",
        "\n",
        "In the main, perform the following tasks now:\n",
        "\n",
        "    Now add items to the menu.\n",
        "    Make table reservations.\n",
        "    Take customer orders.\n",
        "    Print the menu.\n",
        "    Print table reservations.\n",
        "    Print customer orders.\n",
        "\n",
        "Note: Use dictionaries and lists to store the data."
      ]
    },
    {
      "cell_type": "code",
      "source": [
        "class Restaurant:\n",
        "    \"\"\"\n",
        "    Una classe per rappresentare un ristorante con un menu, prenotazioni di tavoli e ordini dei clienti.\n",
        "    \"\"\"\n",
        "    def __init__(self):\n",
        "        \"\"\"\n",
        "        Inizializza gli attributi del ristorante.\n",
        "        - menu_items: un dizionario per memorizzare gli articoli del menu e i loro prezzi.\n",
        "        - booked_tables: una lista per memorizzare i numeri dei tavoli prenotati.\n",
        "        - customer_orders: un dizionario per memorizzare gli ordini per ogni tavolo.\n",
        "        \"\"\"\n",
        "        self.menu_items = {}\n",
        "        self.booked_tables = []\n",
        "        self.customer_orders = {}\n",
        "\n",
        "    def add_item_to_menu(self, item, price):\n",
        "        \"\"\"\n",
        "        Aggiunge un articolo al menu del ristorante.\n",
        "        Args:\n",
        "            item (str): Il nome dell'articolo da aggiungere.\n",
        "            price (float): Il prezzo dell'articolo.\n",
        "        \"\"\"\n",
        "        self.menu_items[item] = price\n",
        "        print(f\"Aggiunto '{item}' al menu con prezzo: €{price:.2f}\")\n",
        "\n",
        "    def book_table(self, table_number):\n",
        "        \"\"\"\n",
        "        Prenota un tavolo nel ristorante.\n",
        "        Args:\n",
        "            table_number (int): Il numero del tavolo da prenotare.\n",
        "        \"\"\"\n",
        "        if table_number not in self.booked_tables:\n",
        "            self.booked_tables.append(table_number)\n",
        "            print(f\"Tavolo {table_number} prenotato con successo.\")\n",
        "        else:\n",
        "            print(f\"Errore: Il tavolo {table_number} è già prenotato.\")\n",
        "\n",
        "    def customer_order(self, table_number, item):\n",
        "        \"\"\"\n",
        "        Registra l'ordine di un cliente per un tavolo specifico.\n",
        "        Args:\n",
        "            table_number (int): Il numero del tavolo che sta ordinando.\n",
        "            item (str): L'articolo ordinato dal menu.\n",
        "        \"\"\"\n",
        "        # Controlla se il tavolo è stato prima prenotato\n",
        "        if table_number not in self.booked_tables:\n",
        "            print(f\"Attenzione: Il tavolo {table_number} non risulta prenotato.\")\n",
        "            return\n",
        "\n",
        "        # Controlla se l'articolo è nel menu\n",
        "        if item in self.menu_items:\n",
        "            # Se il tavolo non ha ancora ordinato nulla, inizializza la sua lista di ordini\n",
        "            if table_number not in self.customer_orders:\n",
        "                self.customer_orders[table_number] = []\n",
        "\n",
        "            # Aggiunge l'articolo all'ordine del tavolo\n",
        "            self.customer_orders[table_number].append(item)\n",
        "            print(f\"Ordine '{item}' registrato per il tavolo {table_number}.\")\n",
        "        else:\n",
        "            print(f\"Errore: L'articolo '{item}' non è presente nel menu.\")\n",
        "\n",
        "\n",
        "# --- Main ---\n",
        "# Esecuzione delle operazioni richieste\n",
        "if __name__ == \"__main__\":\n",
        "\n",
        "    # Crea un'istanza del ristorante\n",
        "    my_restaurant = Restaurant()\n",
        "    print(\"Ristorante creato.\\n\")\n",
        "\n",
        "    # 1. Aggiungi articoli al menu\n",
        "    print(\"--- Aggiunta di articoli al menu ---\")\n",
        "    my_restaurant.add_item_to_menu(\"Pizza Margherita\", 8.50)\n",
        "    my_restaurant.add_item_to_menu(\"Spaghetti alla Carbonara\", 12.00)\n",
        "    my_restaurant.add_item_to_menu(\"Tiramisù\", 6.00)\n",
        "    my_restaurant.add_item_to_menu(\"Acqua Minerale\", 2.00)\n",
        "    print(\"\\n\")\n",
        "\n",
        "    # 2. Fai prenotazioni di tavoli\n",
        "    print(\"--- Prenotazione dei tavoli ---\")\n",
        "    my_restaurant.book_table(5)\n",
        "    my_restaurant.book_table(8)\n",
        "    my_restaurant.book_table(5) # Tentativo di prenotare un tavolo già occupato\n",
        "    print(\"\\n\")\n",
        "\n",
        "    # 3. Prendi ordini dei clienti\n",
        "    print(\"--- Registrazione degli ordini ---\")\n",
        "    my_restaurant.customer_order(5, \"Pizza Margherita\")\n",
        "    my_restaurant.customer_order(8, \"Spaghetti alla Carbonara\")\n",
        "    my_restaurant.customer_order(5, \"Acqua Minerale\")\n",
        "    my_restaurant.customer_order(8, \"Tiramisù\")\n",
        "    my_restaurant.customer_order(10, \"Pizza Margherita\") # Ordine per un tavolo non prenotato\n",
        "    my_restaurant.customer_order(5, \"Caffè\") # Ordine di un articolo non nel menu\n",
        "    print(\"\\n\")\n",
        "\n",
        "    # 4. Stampa il menu\n",
        "    print(\"--- Menu del Ristorante ---\")\n",
        "    # Itera attraverso il dizionario per una stampa più leggibile\n",
        "    for item, price in my_restaurant.menu_items.items():\n",
        "        print(f\"- {item}: €{price:.2f}\")\n",
        "    print(\"\\n\")\n",
        "\n",
        "    # 5. Stampa le prenotazioni dei tavoli\n",
        "    print(\"--- Tavoli Prenotati ---\")\n",
        "    print(my_restaurant.booked_tables)\n",
        "    print(\"\\n\")\n",
        "\n",
        "    # 6. Stampa gli ordini dei clienti\n",
        "    print(\"--- Ordini dei Clienti per Tavolo ---\")\n",
        "    # Itera attraverso il dizionario per una stampa più leggibile\n",
        "    for table, orders in my_restaurant.customer_orders.items():\n",
        "        print(f\"- Tavolo {table}: {orders}\")\n",
        "    print(\"\\n\")"
      ],
      "metadata": {
        "id": "_z3ao7sL_NpT",
        "outputId": "d271a916-5d36-40bc-aef4-bd6b0862a9cc",
        "colab": {
          "base_uri": "https://localhost:8080/"
        }
      },
      "execution_count": 42,
      "outputs": [
        {
          "output_type": "stream",
          "name": "stdout",
          "text": [
            "Ristorante creato.\n",
            "\n",
            "--- Aggiunta di articoli al menu ---\n",
            "Aggiunto 'Pizza Margherita' al menu con prezzo: €8.50\n",
            "Aggiunto 'Spaghetti alla Carbonara' al menu con prezzo: €12.00\n",
            "Aggiunto 'Tiramisù' al menu con prezzo: €6.00\n",
            "Aggiunto 'Acqua Minerale' al menu con prezzo: €2.00\n",
            "\n",
            "\n",
            "--- Prenotazione dei tavoli ---\n",
            "Tavolo 5 prenotato con successo.\n",
            "Tavolo 8 prenotato con successo.\n",
            "Errore: Il tavolo 5 è già prenotato.\n",
            "\n",
            "\n",
            "--- Registrazione degli ordini ---\n",
            "Ordine 'Pizza Margherita' registrato per il tavolo 5.\n",
            "Ordine 'Spaghetti alla Carbonara' registrato per il tavolo 8.\n",
            "Ordine 'Acqua Minerale' registrato per il tavolo 5.\n",
            "Ordine 'Tiramisù' registrato per il tavolo 8.\n",
            "Attenzione: Il tavolo 10 non risulta prenotato.\n",
            "Errore: L'articolo 'Caffè' non è presente nel menu.\n",
            "\n",
            "\n",
            "--- Menu del Ristorante ---\n",
            "- Pizza Margherita: €8.50\n",
            "- Spaghetti alla Carbonara: €12.00\n",
            "- Tiramisù: €6.00\n",
            "- Acqua Minerale: €2.00\n",
            "\n",
            "\n",
            "--- Tavoli Prenotati ---\n",
            "[5, 8]\n",
            "\n",
            "\n",
            "--- Ordini dei Clienti per Tavolo ---\n",
            "- Tavolo 5: ['Pizza Margherita', 'Acqua Minerale']\n",
            "- Tavolo 8: ['Spaghetti alla Carbonara', 'Tiramisù']\n",
            "\n",
            "\n"
          ]
        }
      ]
    }
  ],
  "metadata": {
    "colab": {
      "provenance": [],
      "include_colab_link": true
    },
    "kernelspec": {
      "display_name": "3.10.18",
      "language": "python",
      "name": "python3"
    },
    "language_info": {
      "name": "python",
      "version": "3.10.18"
    }
  },
  "nbformat": 4,
  "nbformat_minor": 0
}