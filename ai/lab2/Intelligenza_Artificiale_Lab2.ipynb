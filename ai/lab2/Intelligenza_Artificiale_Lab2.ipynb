{
  "cells": [
    {
      "cell_type": "markdown",
      "metadata": {
        "colab_type": "text",
        "id": "view-in-github"
      },
      "source": [
        "<a href=\"https://colab.research.google.com/github/alessiomodonesi/Python-Exercises/blob/main/ai/lab2/Intelligenza_Artificiale_Lab2.ipynb\" target=\"_parent\"><img src=\"https://colab.research.google.com/assets/colab-badge.svg\" alt=\"Open In Colab\"/></a>"
      ]
    },
    {
      "cell_type": "markdown",
      "metadata": {
        "id": "yRRHdRaCohhR"
      },
      "source": [
        "**Laboratory Lecture 2**"
      ]
    },
    {
      "cell_type": "markdown",
      "metadata": {
        "id": "w5zXb18hoUds"
      },
      "source": [
        "Class Student"
      ]
    },
    {
      "cell_type": "code",
      "execution_count": null,
      "metadata": {
        "id": "2MZtobVOoInp"
      },
      "outputs": [],
      "source": [
        "class Student:\n",
        "\n",
        " def __init__(self, name, surname, id, degree):\n",
        "   self.name = name\n",
        "   self.surname = surname\n",
        "   self.id = id\n",
        "   self.degree = degree\n"
      ]
    },
    {
      "cell_type": "code",
      "execution_count": null,
      "metadata": {
        "id": "_4YosDJDqwIf"
      },
      "outputs": [],
      "source": [
        "student = Student('Mario', 'Rossi', 10000, 'Computer Science Engineering')\n",
        "student1 = Student('Francesca', 'Bianchi', 10001, 'Information Engineering')"
      ]
    },
    {
      "cell_type": "code",
      "execution_count": null,
      "metadata": {
        "colab": {
          "base_uri": "https://localhost:8080/"
        },
        "id": "KFZKpZMxrqjC",
        "outputId": "72c4e9e5-5b16-4a85-9add-07935fe00abe"
      },
      "outputs": [
        {
          "name": "stdout",
          "output_type": "stream",
          "text": [
            "<__main__.Student object at 0x7fd195b20440>\n",
            "<__main__.Student object at 0x7fd195b20ce0>\n"
          ]
        }
      ],
      "source": [
        "print(student)\n",
        "print(student1)"
      ]
    },
    {
      "cell_type": "code",
      "execution_count": null,
      "metadata": {
        "colab": {
          "base_uri": "https://localhost:8080/"
        },
        "id": "Vf7IVn3Gr06s",
        "outputId": "faa14c78-801b-43f5-d1e1-4d9b9b50277c"
      },
      "outputs": [
        {
          "name": "stdout",
          "output_type": "stream",
          "text": [
            "Mario\n",
            "Rossi\n",
            "10000\n",
            "Computer Science Engineering\n",
            "-----------\n",
            "Francesca\n",
            "Bianchi\n",
            "10001\n",
            "Information Engineering\n"
          ]
        }
      ],
      "source": [
        "print(student.name)\n",
        "print(student.surname)\n",
        "print(student.id)\n",
        "print(student.degree)\n",
        "print(\"-----------\")\n",
        "print(student1.name)\n",
        "print(student1.surname)\n",
        "print(student1.id)\n",
        "print(student1.degree)"
      ]
    },
    {
      "cell_type": "code",
      "execution_count": null,
      "metadata": {
        "colab": {
          "base_uri": "https://localhost:8080/"
        },
        "id": "FJuAP9100keU",
        "outputId": "766dee6b-c9e6-4221-8f55-0fca39839108"
      },
      "outputs": [
        {
          "name": "stdout",
          "output_type": "stream",
          "text": [
            "Francesca Bianchi 10001 Electronic Engineering\n"
          ]
        }
      ],
      "source": [
        "student1.degree = 'Electronic Engineering'\n",
        "print(student1.name + \" \" + student1.surname + \" \" + str(student1.id) + \" \" + student1.degree)"
      ]
    },
    {
      "cell_type": "code",
      "execution_count": null,
      "metadata": {
        "id": "PrmQ0Z0k1smn"
      },
      "outputs": [],
      "source": [
        "class Student:\n",
        "\n",
        " def __init__(self, name, surname, id, degree):\n",
        "   self.name = name\n",
        "   self.surname = surname\n",
        "   self.id = id\n",
        "   self.degree = degree\n",
        "\n",
        "def print_info(self):\n",
        "  print(self.name + \" \" + self.surname + \" \" + str(self.id) + \" \" + self.degree)"
      ]
    },
    {
      "cell_type": "code",
      "execution_count": null,
      "metadata": {
        "colab": {
          "base_uri": "https://localhost:8080/"
        },
        "id": "AdQ77CSB23Qh",
        "outputId": "5901f323-8a2f-4897-bbf5-553a90735ff0"
      },
      "outputs": [
        {
          "name": "stdout",
          "output_type": "stream",
          "text": [
            "Francesca Bianchi 10001 Electronic Engineering\n"
          ]
        }
      ],
      "source": [
        "print_info(student1)"
      ]
    },
    {
      "cell_type": "markdown",
      "metadata": {
        "id": "s_OomwaiBQ-E"
      },
      "source": [
        "Class Dog"
      ]
    },
    {
      "cell_type": "code",
      "execution_count": null,
      "metadata": {
        "id": "KdBLt9LSB7eW"
      },
      "outputs": [],
      "source": [
        "class Dog:\n",
        "    def __init__(self, name, month, day, year, speakText):\n",
        "        self.name = name\n",
        "        self.month = month\n",
        "        self.day = day\n",
        "        self.year = year\n",
        "        self.speakText = speakText\n",
        "\n",
        "    def speak(self):\n",
        "        return self.speakText\n",
        "\n",
        "    def getName(self):\n",
        "        return self.name\n",
        "\n",
        "    def birthDate(self):\n",
        "        return str(self.month) + \"/\" + str(self.day) + \"/\" + str(self.year)\n",
        "\n",
        "    def changeBark(self,bark):\n",
        "        self.speakText = bark\n",
        "\n",
        "\n",
        "    def __add__(self, otherDog):\n",
        "        return Dog(\"Puppy of \" + self.name + \" and \" + otherDog.name, \\\n",
        "                   self.month, self.day, self.year + 1, \\\n",
        "                   self.speakText + otherDog.speakText)"
      ]
    },
    {
      "cell_type": "code",
      "execution_count": null,
      "metadata": {
        "colab": {
          "base_uri": "https://localhost:8080/"
        },
        "id": "PpUJZPlaCYOr",
        "outputId": "2bce8687-25e5-4908-dd19-74d7721c2d28"
      },
      "outputs": [
        {
          "name": "stdout",
          "output_type": "stream",
          "text": [
            "WOOOOF\n",
            "barkbark\n",
            "5/15/2004\n",
            "5/6/2004\n",
            "arf arf\n",
            "arf arfbarkbark\n",
            "Puppy of Mesa and Sequoia\n",
            "5/15/2005\n"
          ]
        }
      ],
      "source": [
        "  boyDog = Dog(\"Mesa\", 5, 15, 2004, \"WOOOOF\")\n",
        "  girlDog = Dog(\"Sequoia\", 5, 6, 2004, \"barkbark\")\n",
        "  print(boyDog.speak())\n",
        "  print(girlDog.speak())\n",
        "  print(boyDog.birthDate())\n",
        "  print(girlDog.birthDate())\n",
        "  boyDog.changeBark(\"arf arf\")\n",
        "  print(boyDog.speak())\n",
        "  puppy = boyDog + girlDog\n",
        "  print(puppy.speak())\n",
        "  print(puppy.getName())\n",
        "  print(puppy.birthDate())"
      ]
    },
    {
      "cell_type": "markdown",
      "metadata": {
        "id": "v_g1Sa94oSlO"
      },
      "source": [
        "Variable assignments"
      ]
    },
    {
      "cell_type": "code",
      "execution_count": null,
      "metadata": {
        "colab": {
          "base_uri": "https://localhost:8080/"
        },
        "id": "4s72if5fqQ1J",
        "outputId": "8f342f5c-2a15-42a2-b002-f5f0a7143afc"
      },
      "outputs": [
        {
          "name": "stdout",
          "output_type": "stream",
          "text": [
            "3\n",
            "2\n"
          ]
        }
      ],
      "source": [
        " a = 3\n",
        " b = a\n",
        " b -=1\n",
        " print(a)\n",
        " print(b)"
      ]
    },
    {
      "cell_type": "code",
      "execution_count": null,
      "metadata": {
        "colab": {
          "base_uri": "https://localhost:8080/"
        },
        "id": "3HQFV1KOoaq8",
        "outputId": "e79fa277-e664-4ee5-8887-07f16aaf9239"
      },
      "outputs": [
        {
          "name": "stdout",
          "output_type": "stream",
          "text": [
            "[1, 2, 3, 4, 5]\n",
            "[1, 2, 3, 4, 5]\n"
          ]
        }
      ],
      "source": [
        "l1 = [1,2,3,4]\n",
        "l2 = l1\n",
        "l2.append(5)\n",
        "print(l1)\n",
        "print(l2)"
      ]
    },
    {
      "cell_type": "markdown",
      "metadata": {
        "id": "mLB0U1fIOQ01"
      },
      "source": [
        "Class Jacket"
      ]
    },
    {
      "cell_type": "code",
      "execution_count": null,
      "metadata": {
        "id": "MyiOVZEROXCf"
      },
      "outputs": [],
      "source": [
        "class Jacket():\n",
        "  def __init__(self):\n",
        "    self.colour = \"no_colour\"\n",
        "    self.buttons = 1\n",
        "    self.style = \"unisex\""
      ]
    },
    {
      "cell_type": "code",
      "execution_count": null,
      "metadata": {
        "colab": {
          "base_uri": "https://localhost:8080/"
        },
        "id": "NobH2QUMO4Rq",
        "outputId": "b6d2e414-043a-4153-d458-4990896cd94f"
      },
      "outputs": [
        {
          "name": "stdout",
          "output_type": "stream",
          "text": [
            "RED\n"
          ]
        }
      ],
      "source": [
        "g1 = Jacket()\n",
        "g1.colour = \"grey\"\n",
        "g1.buttons = 1\n",
        "g1.style = \"woman\"\n",
        "\n",
        "g2 = Jacket()\n",
        "g2.colour = \"red\"\n",
        "g2.buttons = 1\n",
        "g2.style = \"woman\"\n",
        "\n",
        "gr = g2\n",
        "gr.colour = \"RED\"\n",
        "print(g2.colour)"
      ]
    },
    {
      "cell_type": "markdown",
      "metadata": {
        "id": "_Wr3uWSvxJFD"
      },
      "source": [
        "Parameters passing"
      ]
    },
    {
      "cell_type": "code",
      "execution_count": null,
      "metadata": {
        "colab": {
          "base_uri": "https://localhost:8080/"
        },
        "id": "bPMsf1I9xQdl",
        "outputId": "2deedb45-a4d1-4581-a037-337d7a0a11b9"
      },
      "outputs": [
        {
          "name": "stdout",
          "output_type": "stream",
          "text": [
            "1\n"
          ]
        }
      ],
      "source": [
        "def my_func1(b):\n",
        "  b = 2\n",
        "\n",
        "a = 1\n",
        "my_func1(a)\n",
        "print(a)"
      ]
    },
    {
      "cell_type": "code",
      "execution_count": null,
      "metadata": {
        "colab": {
          "base_uri": "https://localhost:8080/"
        },
        "id": "6qg0d9P9ykSG",
        "outputId": "fb3ab0b7-b8fd-4724-ceea-f180f2451d57"
      },
      "outputs": [
        {
          "name": "stdout",
          "output_type": "stream",
          "text": [
            "[1, 2, 3, 4]\n"
          ]
        }
      ],
      "source": [
        "def my_func2(l2):\n",
        "  l2.append(4)\n",
        "\n",
        "l1 = [1, 2, 3]\n",
        "my_func2(l1)\n",
        "print(l1)"
      ]
    },
    {
      "cell_type": "code",
      "execution_count": null,
      "metadata": {
        "colab": {
          "base_uri": "https://localhost:8080/"
        },
        "id": "9sZELadAIubK",
        "outputId": "6cb7187e-a253-4e66-e662-1173a886a3da"
      },
      "outputs": [
        {
          "name": "stdout",
          "output_type": "stream",
          "text": [
            "2\n"
          ]
        }
      ],
      "source": [
        "def my_func1():\n",
        "  global a\n",
        "  a = 2\n",
        "\n",
        "a = 1\n",
        "my_func1()\n",
        "print(a)"
      ]
    },
    {
      "cell_type": "code",
      "execution_count": null,
      "metadata": {
        "colab": {
          "base_uri": "https://localhost:8080/"
        },
        "id": "n_1e4UE1J7C1",
        "outputId": "1fa1d98f-2d85-4aac-cc1e-f2650842b64a"
      },
      "outputs": [
        {
          "name": "stdout",
          "output_type": "stream",
          "text": [
            "2\n"
          ]
        }
      ],
      "source": [
        "def my_func1(b):\n",
        "  return b+1\n",
        "\n",
        "a = 1\n",
        "a = my_func1(a)\n",
        "print(a)"
      ]
    },
    {
      "cell_type": "markdown",
      "metadata": {
        "id": "oSLGjnUBMGQs"
      },
      "source": [
        "Cloning in Python"
      ]
    },
    {
      "cell_type": "code",
      "execution_count": null,
      "metadata": {
        "id": "r8wlGbnbPbZd"
      },
      "outputs": [],
      "source": [
        "class Jacket():\n",
        "  def __init__(self):\n",
        "    self.colour = \"no_colour\"\n",
        "    self.buttons = 1\n",
        "    self.style = \"unisex\""
      ]
    },
    {
      "cell_type": "code",
      "execution_count": null,
      "metadata": {
        "colab": {
          "base_uri": "https://localhost:8080/"
        },
        "id": "Q5jebJpqPi2p",
        "outputId": "ebdcaa69-b310-483f-b644-a17ca72a9781"
      },
      "outputs": [
        {
          "name": "stdout",
          "output_type": "stream",
          "text": [
            "RED\n"
          ]
        }
      ],
      "source": [
        "g1 = Jacket()\n",
        "g1.colour = \"grey\"\n",
        "g1.buttons = 1\n",
        "g1.style = \"woman\"\n",
        "\n",
        "g2 = Jacket()\n",
        "g2.colour = \"red\"\n",
        "g2.buttons = 1\n",
        "g2.style = \"woman\"\n",
        "\n",
        "gr = g2\n",
        "gr.colour = \"RED\"\n",
        "print(g2.colour)"
      ]
    },
    {
      "cell_type": "code",
      "execution_count": null,
      "metadata": {
        "colab": {
          "base_uri": "https://localhost:8080/"
        },
        "id": "JKxDBQ_ZTfAK",
        "outputId": "6cd1760c-6be5-4b76-c927-6e3a016b7a64"
      },
      "outputs": [
        {
          "name": "stdout",
          "output_type": "stream",
          "text": [
            "RED\n",
            "BLACK\n"
          ]
        }
      ],
      "source": [
        "import copy\n",
        "\n",
        "gr = copy.copy(g2)\n",
        "gr.colour = \"BLACK\"\n",
        "print(g2.colour)\n",
        "print(gr.colour)"
      ]
    },
    {
      "cell_type": "code",
      "execution_count": null,
      "metadata": {
        "colab": {
          "base_uri": "https://localhost:8080/"
        },
        "id": "7uymFy3GXk9e",
        "outputId": "205130fe-9e13-49a9-d447-78c7647c3f19"
      },
      "outputs": [
        {
          "name": "stdout",
          "output_type": "stream",
          "text": [
            "RED\n",
            "BLACK\n",
            "RED\n",
            "BLACK\n"
          ]
        }
      ],
      "source": [
        "import copy\n",
        "gr = copy.copy(g2)\n",
        "gr.colour = \"BLACK\"\n",
        "print(g2.colour)\n",
        "print(gr.colour)\n",
        "\n",
        "gj = copy.deepcopy(g2)\n",
        "gj.colour = \"BLACK\"\n",
        "print(g2.colour)\n",
        "print(gj.colour)"
      ]
    },
    {
      "cell_type": "code",
      "execution_count": null,
      "metadata": {
        "id": "VhKrR5YITezC"
      },
      "outputs": [],
      "source": [
        "class Owner():\n",
        "  def __init__(self):\n",
        "    self.name = \"\"\n",
        "\n",
        "class Jacket():\n",
        "  def __init__(self):\n",
        "    self.colour = \"no_colour\"\n",
        "    self.buttons = 1\n",
        "    self.style = \"unisex\""
      ]
    },
    {
      "cell_type": "code",
      "execution_count": null,
      "metadata": {
        "colab": {
          "base_uri": "https://localhost:8080/"
        },
        "id": "L5hcZ85qUaz9",
        "outputId": "40806bf3-8b86-4d0e-8dce-a41cbfb979c1"
      },
      "outputs": [
        {
          "name": "stdout",
          "output_type": "stream",
          "text": [
            "Maria Rossi\n",
            "Maria Bianchi\n",
            "Maria Bianchi\n"
          ]
        }
      ],
      "source": [
        "import copy\n",
        "\n",
        "g1 = Jacket()\n",
        "g1.colour = \"grey\"\n",
        "g1.buttons = 1\n",
        "g1.style = \"woman\"\n",
        "\n",
        "p1 = Owner()\n",
        "p1.name = \"Maria Rossi\"\n",
        "g1.owner = p1\n",
        "print(g1.owner.name)\n",
        "\n",
        "g2 = copy.copy(g1)\n",
        "g2.colour = \"brown\"\n",
        "\n",
        "g2.owner.name = \"Maria Bianchi\"\n",
        "\n",
        "print(g1.owner.name)\n",
        "print(g2.owner.name)"
      ]
    },
    {
      "cell_type": "code",
      "execution_count": null,
      "metadata": {
        "colab": {
          "base_uri": "https://localhost:8080/"
        },
        "id": "ujdGsdyhZ8_R",
        "outputId": "c4832771-52b4-4207-cb9e-ac742ee531f1"
      },
      "outputs": [
        {
          "name": "stdout",
          "output_type": "stream",
          "text": [
            "Maria Rossi\n",
            "Maria Rossi\n",
            "Maria Bianchi\n"
          ]
        }
      ],
      "source": [
        "import copy\n",
        "\n",
        "g1 = Jacket()\n",
        "g1.colour = \"grey\"\n",
        "g1.buttons = 1\n",
        "g1.style = \"woman\"\n",
        "\n",
        "p1 = Owner()\n",
        "p1.name = \"Maria Rossi\"\n",
        "g1.owner = p1\n",
        "print(g1.owner.name)\n",
        "\n",
        "g2 = copy.deepcopy(g1)\n",
        "g2.colour = \"brown\"\n",
        "\n",
        "g2.owner.name = \"Maria Bianchi\"\n",
        "\n",
        "print(g1.owner.name)\n",
        "print(g2.owner.name)"
      ]
    },
    {
      "cell_type": "markdown",
      "metadata": {
        "id": "SKq3odcHfFPf"
      },
      "source": [
        "Polymorphism"
      ]
    },
    {
      "cell_type": "code",
      "execution_count": null,
      "metadata": {
        "colab": {
          "base_uri": "https://localhost:8080/"
        },
        "id": "pHuSHnOshiMz",
        "outputId": "08cddcb7-8327-4350-e27b-cab7fa3e61c9"
      },
      "outputs": [
        {
          "name": "stdout",
          "output_type": "stream",
          "text": [
            "11\n",
            "4\n"
          ]
        }
      ],
      "source": [
        "print(len('Hello guys!'))\n",
        "print(len([2,4,5,[5,6]]))"
      ]
    },
    {
      "cell_type": "code",
      "execution_count": null,
      "metadata": {
        "id": "AFcazwpaeC7c"
      },
      "outputs": [],
      "source": [
        "class Dog:\n",
        "  def __init__(self, name):\n",
        "    self.name = name\n",
        "\n",
        "  def say_hello(self):\n",
        "    print(\"%s say Bau!\" % self.name)\n"
      ]
    },
    {
      "cell_type": "code",
      "execution_count": null,
      "metadata": {
        "id": "Ywv2uph4enUz"
      },
      "outputs": [],
      "source": [
        "class Cat:\n",
        "  def __init__(self, name):\n",
        "    self.name = name\n",
        "\n",
        "  def say_hello(self):\n",
        "    print(\"%s say Miao!\" % self.name)"
      ]
    },
    {
      "cell_type": "code",
      "execution_count": null,
      "metadata": {
        "colab": {
          "base_uri": "https://localhost:8080/"
        },
        "id": "RjYGseqeerF-",
        "outputId": "bf20b6b4-34c1-4744-893b-240a7cdcfa94"
      },
      "outputs": [
        {
          "name": "stdout",
          "output_type": "stream",
          "text": [
            "Pluto say Bau!\n",
            "Fuffy say Miao!\n"
          ]
        }
      ],
      "source": [
        "my_pets = [Dog('Pluto'), Cat('Fuffy')]\n",
        "for pet in my_pets:\n",
        "  pet.say_hello()"
      ]
    },
    {
      "cell_type": "markdown",
      "metadata": {
        "id": "PZV1WvF8jBsJ"
      },
      "source": [
        "Inheritance"
      ]
    },
    {
      "cell_type": "code",
      "execution_count": null,
      "metadata": {
        "id": "1mCpbPkDjFaH"
      },
      "outputs": [],
      "source": [
        "class Animal:\n",
        "\n",
        " def print_who_i_am(self):\n",
        "   print(\"I am an animal\")\n",
        "\n",
        "class Mammal(Animal):\n",
        "  pass\n",
        "\n",
        "class Dog(Mammal):\n",
        "  pass"
      ]
    },
    {
      "cell_type": "code",
      "execution_count": null,
      "metadata": {
        "colab": {
          "base_uri": "https://localhost:8080/"
        },
        "id": "myQ8yTT8jydI",
        "outputId": "a16c2c6a-d1c7-4029-8e36-a088e0522a54"
      },
      "outputs": [
        {
          "name": "stdout",
          "output_type": "stream",
          "text": [
            "I am an animal\n"
          ]
        }
      ],
      "source": [
        "def main():\n",
        "  dog = Dog()\n",
        "  dog.print_who_i_am()\n",
        "\n",
        "if __name__== \"__main__\":\n",
        "  main()"
      ]
    },
    {
      "cell_type": "code",
      "execution_count": null,
      "metadata": {
        "id": "UKvwA1Pb2Tek"
      },
      "outputs": [],
      "source": [
        "class Animal:\n",
        "\n",
        " def print_who_i_am(self):\n",
        "   print(\"I am an animal\")\n",
        "\n",
        "class Mammal(Animal):\n",
        "\n",
        "  def print_my_family(self):\n",
        "    print(\"I am a mammal\")\n",
        "\n",
        "\n",
        "class Dog(Mammal):\n",
        "\n",
        "  def print_me(self):\n",
        "    self.print_who_i_am()\n",
        "    self.print_my_family()\n",
        "    print(\"I am a dog\")"
      ]
    },
    {
      "cell_type": "code",
      "execution_count": null,
      "metadata": {
        "colab": {
          "base_uri": "https://localhost:8080/"
        },
        "id": "sJAnzFf43I2I",
        "outputId": "19ad41a7-86f6-47c1-8de2-5146d6823d5a"
      },
      "outputs": [
        {
          "name": "stdout",
          "output_type": "stream",
          "text": [
            "I am an animal\n",
            "I am a mammal\n",
            "I am a dog\n"
          ]
        }
      ],
      "source": [
        "def main():\n",
        "  dog = Dog()\n",
        "  dog.print_me()\n",
        "\n",
        "if __name__== \"__main__\":\n",
        "  main()"
      ]
    },
    {
      "cell_type": "code",
      "execution_count": null,
      "metadata": {
        "id": "_XNaaJrf7P68"
      },
      "outputs": [],
      "source": [
        "class Animal:\n",
        "\n",
        " def print_who_i_am(self):\n",
        "   print(\"I am an animal\")\n",
        "\n",
        "class Mammal(Animal):\n",
        "\n",
        "  def print_who_i_am(self):\n",
        "    print(\"I am a mammal\")\n",
        "\n",
        "\n",
        "class Dog(Mammal):\n",
        "\n",
        "  def print_who_i_am(self):\n",
        "    print(\"I am a dog\")"
      ]
    },
    {
      "cell_type": "code",
      "execution_count": null,
      "metadata": {
        "colab": {
          "base_uri": "https://localhost:8080/"
        },
        "id": "J2NIHnL67euX",
        "outputId": "c467d4e4-14af-442f-92c9-892ab9a99d71"
      },
      "outputs": [
        {
          "name": "stdout",
          "output_type": "stream",
          "text": [
            "I am a dog\n"
          ]
        }
      ],
      "source": [
        "def main():\n",
        "  dog = Dog()\n",
        "  dog.print_who_i_am()\n",
        "\n",
        "if __name__== \"__main__\":\n",
        "  main()"
      ]
    },
    {
      "cell_type": "code",
      "execution_count": null,
      "metadata": {
        "id": "h8ixzYaPAhde"
      },
      "outputs": [],
      "source": [
        "class Animal:\n",
        "\n",
        "  def __init__(self, name = None):\n",
        "    self.name = name\n",
        "    self.blood = \"\"\n",
        "\n",
        "  def print_me(self):\n",
        "    if self.name:\n",
        "      print(\"I am %s\" % self.name)\n",
        "      print(\"I have a %s blood\" % self.blood)\n",
        "\n",
        "class Mammal(Animal):\n",
        "\n",
        "  def __init__(self, name = None):\n",
        "    Animal.__init__(self, name)\n",
        "    self.blood = \"warm\"\n",
        "\n",
        "class Dog(Mammal):\n",
        "\n",
        "  def __init__(self, name = None):\n",
        "    Mammal.__init__(self, name)\n",
        "    self.call_sound = \"bau\"\n",
        "\n",
        "  def print_me(self):\n",
        "    Mammal.print_me(self)\n",
        "    print(\"My call sound is %s\" % self.call_sound)"
      ]
    },
    {
      "cell_type": "code",
      "execution_count": null,
      "metadata": {
        "colab": {
          "base_uri": "https://localhost:8080/"
        },
        "id": "SSOouyt5EAnS",
        "outputId": "8fd52795-81a7-4b72-cd34-39c1de107c2e"
      },
      "outputs": [
        {
          "name": "stdout",
          "output_type": "stream",
          "text": [
            "I am Bobby\n",
            "I have a warm blood\n",
            "My call sound is bau\n"
          ]
        }
      ],
      "source": [
        "def main():\n",
        "  dog = Dog(\"Bobby\")\n",
        "  dog.print_me()\n",
        "\n",
        "if __name__== \"__main__\":\n",
        "  main()"
      ]
    },
    {
      "cell_type": "code",
      "execution_count": null,
      "metadata": {
        "id": "DCFvysqTFui5"
      },
      "outputs": [],
      "source": [
        "class Animal:\n",
        "\n",
        "  def __init__(self, name = None):\n",
        "    self.name = name\n",
        "    self.blood = \"\"\n",
        "\n",
        "  def print_me(self):\n",
        "    if self.name:\n",
        "      print(\"I am %s\" % self.name)\n",
        "      print(\"I have a %s blood\" % self.blood)\n",
        "\n",
        "class Mammal(Animal):\n",
        "\n",
        "  def __init__(self, name = None):\n",
        "    super().__init__(name)\n",
        "    self.blood = \"warm\"\n",
        "\n",
        "class Dog(Mammal):\n",
        "\n",
        "  def __init__(self, name = None):\n",
        "    super().__init__(name)\n",
        "    self.call_sound = \"bau\"\n",
        "\n",
        "  def print_me(self):\n",
        "    super().print_me()\n",
        "    print(\"My call sound is %s\" % self.call_sound)"
      ]
    },
    {
      "cell_type": "code",
      "execution_count": null,
      "metadata": {
        "colab": {
          "base_uri": "https://localhost:8080/"
        },
        "id": "UmVI71sNF72H",
        "outputId": "1030b821-7b9c-4341-a9f1-33b706c786a3"
      },
      "outputs": [
        {
          "name": "stdout",
          "output_type": "stream",
          "text": [
            "I am Bobby\n",
            "I have a warm blood\n",
            "My call sound is bau\n"
          ]
        }
      ],
      "source": [
        "def main():\n",
        "  dog = Dog(\"Bobby\")\n",
        "  dog.print_me()\n",
        "\n",
        "if __name__== \"__main__\":\n",
        "  main()"
      ]
    }
  ],
  "metadata": {
    "colab": {
      "include_colab_link": true,
      "provenance": []
    },
    "kernelspec": {
      "display_name": "3.10.18",
      "language": "python",
      "name": "python3"
    },
    "language_info": {
      "name": "python",
      "version": "3.10.18"
    }
  },
  "nbformat": 4,
  "nbformat_minor": 0
}
